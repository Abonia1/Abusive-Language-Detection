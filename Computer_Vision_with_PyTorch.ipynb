{
  "nbformat": 4,
  "nbformat_minor": 0,
  "metadata": {
    "colab": {
      "name": "Computer Vision with PyTorch.ipynb",
      "provenance": [],
      "collapsed_sections": [],
      "authorship_tag": "ABX9TyN2oMSG3Gp95N2+Of+a2Vmw",
      "include_colab_link": true
    },
    "kernelspec": {
      "name": "python3",
      "display_name": "Python 3"
    },
    "language_info": {
      "name": "python"
    },
    "widgets": {
      "application/vnd.jupyter.widget-state+json": {
        "4097552d38d94c99bce46b5fbbbd8f31": {
          "model_module": "@jupyter-widgets/controls",
          "model_name": "HBoxModel",
          "model_module_version": "1.5.0",
          "state": {
            "_dom_classes": [],
            "_model_module": "@jupyter-widgets/controls",
            "_model_module_version": "1.5.0",
            "_model_name": "HBoxModel",
            "_view_count": null,
            "_view_module": "@jupyter-widgets/controls",
            "_view_module_version": "1.5.0",
            "_view_name": "HBoxView",
            "box_style": "",
            "children": [
              "IPY_MODEL_099d3a0f3ba3495fa304d07cadffefc7",
              "IPY_MODEL_1061094c79424c84813d7b3222802919",
              "IPY_MODEL_8120260c1e8b462eaaad54ac4f198f37"
            ],
            "layout": "IPY_MODEL_4413257a7f5a485bad9180712daf33ae"
          }
        },
        "099d3a0f3ba3495fa304d07cadffefc7": {
          "model_module": "@jupyter-widgets/controls",
          "model_name": "HTMLModel",
          "model_module_version": "1.5.0",
          "state": {
            "_dom_classes": [],
            "_model_module": "@jupyter-widgets/controls",
            "_model_module_version": "1.5.0",
            "_model_name": "HTMLModel",
            "_view_count": null,
            "_view_module": "@jupyter-widgets/controls",
            "_view_module_version": "1.5.0",
            "_view_name": "HTMLView",
            "description": "",
            "description_tooltip": null,
            "layout": "IPY_MODEL_5484c9c95ed34a0f9948c793b27db4dc",
            "placeholder": "​",
            "style": "IPY_MODEL_f156ff3740ab41b5ad9f689c338b2940",
            "value": ""
          }
        },
        "1061094c79424c84813d7b3222802919": {
          "model_module": "@jupyter-widgets/controls",
          "model_name": "FloatProgressModel",
          "model_module_version": "1.5.0",
          "state": {
            "_dom_classes": [],
            "_model_module": "@jupyter-widgets/controls",
            "_model_module_version": "1.5.0",
            "_model_name": "FloatProgressModel",
            "_view_count": null,
            "_view_module": "@jupyter-widgets/controls",
            "_view_module_version": "1.5.0",
            "_view_name": "ProgressView",
            "bar_style": "success",
            "description": "",
            "description_tooltip": null,
            "layout": "IPY_MODEL_5f98d7f3701b453f9aa0d4d4edafa6c6",
            "max": 26421880,
            "min": 0,
            "orientation": "horizontal",
            "style": "IPY_MODEL_607d4cfaaa7548a39704eaa7b1b7c70d",
            "value": 26421880
          }
        },
        "8120260c1e8b462eaaad54ac4f198f37": {
          "model_module": "@jupyter-widgets/controls",
          "model_name": "HTMLModel",
          "model_module_version": "1.5.0",
          "state": {
            "_dom_classes": [],
            "_model_module": "@jupyter-widgets/controls",
            "_model_module_version": "1.5.0",
            "_model_name": "HTMLModel",
            "_view_count": null,
            "_view_module": "@jupyter-widgets/controls",
            "_view_module_version": "1.5.0",
            "_view_name": "HTMLView",
            "description": "",
            "description_tooltip": null,
            "layout": "IPY_MODEL_2f72e5c46d6a4b4cb448a0a2e91e86cc",
            "placeholder": "​",
            "style": "IPY_MODEL_d2f420166127478da3cb3637585bc0e2",
            "value": " 26422272/? [00:01&lt;00:00, 20466342.83it/s]"
          }
        },
        "4413257a7f5a485bad9180712daf33ae": {
          "model_module": "@jupyter-widgets/base",
          "model_name": "LayoutModel",
          "model_module_version": "1.2.0",
          "state": {
            "_model_module": "@jupyter-widgets/base",
            "_model_module_version": "1.2.0",
            "_model_name": "LayoutModel",
            "_view_count": null,
            "_view_module": "@jupyter-widgets/base",
            "_view_module_version": "1.2.0",
            "_view_name": "LayoutView",
            "align_content": null,
            "align_items": null,
            "align_self": null,
            "border": null,
            "bottom": null,
            "display": null,
            "flex": null,
            "flex_flow": null,
            "grid_area": null,
            "grid_auto_columns": null,
            "grid_auto_flow": null,
            "grid_auto_rows": null,
            "grid_column": null,
            "grid_gap": null,
            "grid_row": null,
            "grid_template_areas": null,
            "grid_template_columns": null,
            "grid_template_rows": null,
            "height": null,
            "justify_content": null,
            "justify_items": null,
            "left": null,
            "margin": null,
            "max_height": null,
            "max_width": null,
            "min_height": null,
            "min_width": null,
            "object_fit": null,
            "object_position": null,
            "order": null,
            "overflow": null,
            "overflow_x": null,
            "overflow_y": null,
            "padding": null,
            "right": null,
            "top": null,
            "visibility": null,
            "width": null
          }
        },
        "5484c9c95ed34a0f9948c793b27db4dc": {
          "model_module": "@jupyter-widgets/base",
          "model_name": "LayoutModel",
          "model_module_version": "1.2.0",
          "state": {
            "_model_module": "@jupyter-widgets/base",
            "_model_module_version": "1.2.0",
            "_model_name": "LayoutModel",
            "_view_count": null,
            "_view_module": "@jupyter-widgets/base",
            "_view_module_version": "1.2.0",
            "_view_name": "LayoutView",
            "align_content": null,
            "align_items": null,
            "align_self": null,
            "border": null,
            "bottom": null,
            "display": null,
            "flex": null,
            "flex_flow": null,
            "grid_area": null,
            "grid_auto_columns": null,
            "grid_auto_flow": null,
            "grid_auto_rows": null,
            "grid_column": null,
            "grid_gap": null,
            "grid_row": null,
            "grid_template_areas": null,
            "grid_template_columns": null,
            "grid_template_rows": null,
            "height": null,
            "justify_content": null,
            "justify_items": null,
            "left": null,
            "margin": null,
            "max_height": null,
            "max_width": null,
            "min_height": null,
            "min_width": null,
            "object_fit": null,
            "object_position": null,
            "order": null,
            "overflow": null,
            "overflow_x": null,
            "overflow_y": null,
            "padding": null,
            "right": null,
            "top": null,
            "visibility": null,
            "width": null
          }
        },
        "f156ff3740ab41b5ad9f689c338b2940": {
          "model_module": "@jupyter-widgets/controls",
          "model_name": "DescriptionStyleModel",
          "model_module_version": "1.5.0",
          "state": {
            "_model_module": "@jupyter-widgets/controls",
            "_model_module_version": "1.5.0",
            "_model_name": "DescriptionStyleModel",
            "_view_count": null,
            "_view_module": "@jupyter-widgets/base",
            "_view_module_version": "1.2.0",
            "_view_name": "StyleView",
            "description_width": ""
          }
        },
        "5f98d7f3701b453f9aa0d4d4edafa6c6": {
          "model_module": "@jupyter-widgets/base",
          "model_name": "LayoutModel",
          "model_module_version": "1.2.0",
          "state": {
            "_model_module": "@jupyter-widgets/base",
            "_model_module_version": "1.2.0",
            "_model_name": "LayoutModel",
            "_view_count": null,
            "_view_module": "@jupyter-widgets/base",
            "_view_module_version": "1.2.0",
            "_view_name": "LayoutView",
            "align_content": null,
            "align_items": null,
            "align_self": null,
            "border": null,
            "bottom": null,
            "display": null,
            "flex": null,
            "flex_flow": null,
            "grid_area": null,
            "grid_auto_columns": null,
            "grid_auto_flow": null,
            "grid_auto_rows": null,
            "grid_column": null,
            "grid_gap": null,
            "grid_row": null,
            "grid_template_areas": null,
            "grid_template_columns": null,
            "grid_template_rows": null,
            "height": null,
            "justify_content": null,
            "justify_items": null,
            "left": null,
            "margin": null,
            "max_height": null,
            "max_width": null,
            "min_height": null,
            "min_width": null,
            "object_fit": null,
            "object_position": null,
            "order": null,
            "overflow": null,
            "overflow_x": null,
            "overflow_y": null,
            "padding": null,
            "right": null,
            "top": null,
            "visibility": null,
            "width": null
          }
        },
        "607d4cfaaa7548a39704eaa7b1b7c70d": {
          "model_module": "@jupyter-widgets/controls",
          "model_name": "ProgressStyleModel",
          "model_module_version": "1.5.0",
          "state": {
            "_model_module": "@jupyter-widgets/controls",
            "_model_module_version": "1.5.0",
            "_model_name": "ProgressStyleModel",
            "_view_count": null,
            "_view_module": "@jupyter-widgets/base",
            "_view_module_version": "1.2.0",
            "_view_name": "StyleView",
            "bar_color": null,
            "description_width": ""
          }
        },
        "2f72e5c46d6a4b4cb448a0a2e91e86cc": {
          "model_module": "@jupyter-widgets/base",
          "model_name": "LayoutModel",
          "model_module_version": "1.2.0",
          "state": {
            "_model_module": "@jupyter-widgets/base",
            "_model_module_version": "1.2.0",
            "_model_name": "LayoutModel",
            "_view_count": null,
            "_view_module": "@jupyter-widgets/base",
            "_view_module_version": "1.2.0",
            "_view_name": "LayoutView",
            "align_content": null,
            "align_items": null,
            "align_self": null,
            "border": null,
            "bottom": null,
            "display": null,
            "flex": null,
            "flex_flow": null,
            "grid_area": null,
            "grid_auto_columns": null,
            "grid_auto_flow": null,
            "grid_auto_rows": null,
            "grid_column": null,
            "grid_gap": null,
            "grid_row": null,
            "grid_template_areas": null,
            "grid_template_columns": null,
            "grid_template_rows": null,
            "height": null,
            "justify_content": null,
            "justify_items": null,
            "left": null,
            "margin": null,
            "max_height": null,
            "max_width": null,
            "min_height": null,
            "min_width": null,
            "object_fit": null,
            "object_position": null,
            "order": null,
            "overflow": null,
            "overflow_x": null,
            "overflow_y": null,
            "padding": null,
            "right": null,
            "top": null,
            "visibility": null,
            "width": null
          }
        },
        "d2f420166127478da3cb3637585bc0e2": {
          "model_module": "@jupyter-widgets/controls",
          "model_name": "DescriptionStyleModel",
          "model_module_version": "1.5.0",
          "state": {
            "_model_module": "@jupyter-widgets/controls",
            "_model_module_version": "1.5.0",
            "_model_name": "DescriptionStyleModel",
            "_view_count": null,
            "_view_module": "@jupyter-widgets/base",
            "_view_module_version": "1.2.0",
            "_view_name": "StyleView",
            "description_width": ""
          }
        },
        "568f554a626543d48750c595f5777011": {
          "model_module": "@jupyter-widgets/controls",
          "model_name": "HBoxModel",
          "model_module_version": "1.5.0",
          "state": {
            "_dom_classes": [],
            "_model_module": "@jupyter-widgets/controls",
            "_model_module_version": "1.5.0",
            "_model_name": "HBoxModel",
            "_view_count": null,
            "_view_module": "@jupyter-widgets/controls",
            "_view_module_version": "1.5.0",
            "_view_name": "HBoxView",
            "box_style": "",
            "children": [
              "IPY_MODEL_79d3ce6be4914ea8b5c040f4e54c55ad",
              "IPY_MODEL_7d480f8715204256a1c67ab79e52d1ef",
              "IPY_MODEL_84ccf98b03c542abbcbab4a6cf526be9"
            ],
            "layout": "IPY_MODEL_d25234c9cf1a426dba9a2ee2c03f401a"
          }
        },
        "79d3ce6be4914ea8b5c040f4e54c55ad": {
          "model_module": "@jupyter-widgets/controls",
          "model_name": "HTMLModel",
          "model_module_version": "1.5.0",
          "state": {
            "_dom_classes": [],
            "_model_module": "@jupyter-widgets/controls",
            "_model_module_version": "1.5.0",
            "_model_name": "HTMLModel",
            "_view_count": null,
            "_view_module": "@jupyter-widgets/controls",
            "_view_module_version": "1.5.0",
            "_view_name": "HTMLView",
            "description": "",
            "description_tooltip": null,
            "layout": "IPY_MODEL_11f048bf5e2d45f0a5ec516f6ad490d2",
            "placeholder": "​",
            "style": "IPY_MODEL_2ab03f0471a64eddafa4a1e487790419",
            "value": ""
          }
        },
        "7d480f8715204256a1c67ab79e52d1ef": {
          "model_module": "@jupyter-widgets/controls",
          "model_name": "FloatProgressModel",
          "model_module_version": "1.5.0",
          "state": {
            "_dom_classes": [],
            "_model_module": "@jupyter-widgets/controls",
            "_model_module_version": "1.5.0",
            "_model_name": "FloatProgressModel",
            "_view_count": null,
            "_view_module": "@jupyter-widgets/controls",
            "_view_module_version": "1.5.0",
            "_view_name": "ProgressView",
            "bar_style": "success",
            "description": "",
            "description_tooltip": null,
            "layout": "IPY_MODEL_21c561b8a98e4de19335278c6889e726",
            "max": 29515,
            "min": 0,
            "orientation": "horizontal",
            "style": "IPY_MODEL_bde3afdf137a440d978c2d29be4d3bea",
            "value": 29515
          }
        },
        "84ccf98b03c542abbcbab4a6cf526be9": {
          "model_module": "@jupyter-widgets/controls",
          "model_name": "HTMLModel",
          "model_module_version": "1.5.0",
          "state": {
            "_dom_classes": [],
            "_model_module": "@jupyter-widgets/controls",
            "_model_module_version": "1.5.0",
            "_model_name": "HTMLModel",
            "_view_count": null,
            "_view_module": "@jupyter-widgets/controls",
            "_view_module_version": "1.5.0",
            "_view_name": "HTMLView",
            "description": "",
            "description_tooltip": null,
            "layout": "IPY_MODEL_812bd86aa77a4fb98bb5fccb866ae504",
            "placeholder": "​",
            "style": "IPY_MODEL_f7d72fd1c95d446d99b69ffca01945d3",
            "value": " 29696/? [00:00&lt;00:00, 133291.23it/s]"
          }
        },
        "d25234c9cf1a426dba9a2ee2c03f401a": {
          "model_module": "@jupyter-widgets/base",
          "model_name": "LayoutModel",
          "model_module_version": "1.2.0",
          "state": {
            "_model_module": "@jupyter-widgets/base",
            "_model_module_version": "1.2.0",
            "_model_name": "LayoutModel",
            "_view_count": null,
            "_view_module": "@jupyter-widgets/base",
            "_view_module_version": "1.2.0",
            "_view_name": "LayoutView",
            "align_content": null,
            "align_items": null,
            "align_self": null,
            "border": null,
            "bottom": null,
            "display": null,
            "flex": null,
            "flex_flow": null,
            "grid_area": null,
            "grid_auto_columns": null,
            "grid_auto_flow": null,
            "grid_auto_rows": null,
            "grid_column": null,
            "grid_gap": null,
            "grid_row": null,
            "grid_template_areas": null,
            "grid_template_columns": null,
            "grid_template_rows": null,
            "height": null,
            "justify_content": null,
            "justify_items": null,
            "left": null,
            "margin": null,
            "max_height": null,
            "max_width": null,
            "min_height": null,
            "min_width": null,
            "object_fit": null,
            "object_position": null,
            "order": null,
            "overflow": null,
            "overflow_x": null,
            "overflow_y": null,
            "padding": null,
            "right": null,
            "top": null,
            "visibility": null,
            "width": null
          }
        },
        "11f048bf5e2d45f0a5ec516f6ad490d2": {
          "model_module": "@jupyter-widgets/base",
          "model_name": "LayoutModel",
          "model_module_version": "1.2.0",
          "state": {
            "_model_module": "@jupyter-widgets/base",
            "_model_module_version": "1.2.0",
            "_model_name": "LayoutModel",
            "_view_count": null,
            "_view_module": "@jupyter-widgets/base",
            "_view_module_version": "1.2.0",
            "_view_name": "LayoutView",
            "align_content": null,
            "align_items": null,
            "align_self": null,
            "border": null,
            "bottom": null,
            "display": null,
            "flex": null,
            "flex_flow": null,
            "grid_area": null,
            "grid_auto_columns": null,
            "grid_auto_flow": null,
            "grid_auto_rows": null,
            "grid_column": null,
            "grid_gap": null,
            "grid_row": null,
            "grid_template_areas": null,
            "grid_template_columns": null,
            "grid_template_rows": null,
            "height": null,
            "justify_content": null,
            "justify_items": null,
            "left": null,
            "margin": null,
            "max_height": null,
            "max_width": null,
            "min_height": null,
            "min_width": null,
            "object_fit": null,
            "object_position": null,
            "order": null,
            "overflow": null,
            "overflow_x": null,
            "overflow_y": null,
            "padding": null,
            "right": null,
            "top": null,
            "visibility": null,
            "width": null
          }
        },
        "2ab03f0471a64eddafa4a1e487790419": {
          "model_module": "@jupyter-widgets/controls",
          "model_name": "DescriptionStyleModel",
          "model_module_version": "1.5.0",
          "state": {
            "_model_module": "@jupyter-widgets/controls",
            "_model_module_version": "1.5.0",
            "_model_name": "DescriptionStyleModel",
            "_view_count": null,
            "_view_module": "@jupyter-widgets/base",
            "_view_module_version": "1.2.0",
            "_view_name": "StyleView",
            "description_width": ""
          }
        },
        "21c561b8a98e4de19335278c6889e726": {
          "model_module": "@jupyter-widgets/base",
          "model_name": "LayoutModel",
          "model_module_version": "1.2.0",
          "state": {
            "_model_module": "@jupyter-widgets/base",
            "_model_module_version": "1.2.0",
            "_model_name": "LayoutModel",
            "_view_count": null,
            "_view_module": "@jupyter-widgets/base",
            "_view_module_version": "1.2.0",
            "_view_name": "LayoutView",
            "align_content": null,
            "align_items": null,
            "align_self": null,
            "border": null,
            "bottom": null,
            "display": null,
            "flex": null,
            "flex_flow": null,
            "grid_area": null,
            "grid_auto_columns": null,
            "grid_auto_flow": null,
            "grid_auto_rows": null,
            "grid_column": null,
            "grid_gap": null,
            "grid_row": null,
            "grid_template_areas": null,
            "grid_template_columns": null,
            "grid_template_rows": null,
            "height": null,
            "justify_content": null,
            "justify_items": null,
            "left": null,
            "margin": null,
            "max_height": null,
            "max_width": null,
            "min_height": null,
            "min_width": null,
            "object_fit": null,
            "object_position": null,
            "order": null,
            "overflow": null,
            "overflow_x": null,
            "overflow_y": null,
            "padding": null,
            "right": null,
            "top": null,
            "visibility": null,
            "width": null
          }
        },
        "bde3afdf137a440d978c2d29be4d3bea": {
          "model_module": "@jupyter-widgets/controls",
          "model_name": "ProgressStyleModel",
          "model_module_version": "1.5.0",
          "state": {
            "_model_module": "@jupyter-widgets/controls",
            "_model_module_version": "1.5.0",
            "_model_name": "ProgressStyleModel",
            "_view_count": null,
            "_view_module": "@jupyter-widgets/base",
            "_view_module_version": "1.2.0",
            "_view_name": "StyleView",
            "bar_color": null,
            "description_width": ""
          }
        },
        "812bd86aa77a4fb98bb5fccb866ae504": {
          "model_module": "@jupyter-widgets/base",
          "model_name": "LayoutModel",
          "model_module_version": "1.2.0",
          "state": {
            "_model_module": "@jupyter-widgets/base",
            "_model_module_version": "1.2.0",
            "_model_name": "LayoutModel",
            "_view_count": null,
            "_view_module": "@jupyter-widgets/base",
            "_view_module_version": "1.2.0",
            "_view_name": "LayoutView",
            "align_content": null,
            "align_items": null,
            "align_self": null,
            "border": null,
            "bottom": null,
            "display": null,
            "flex": null,
            "flex_flow": null,
            "grid_area": null,
            "grid_auto_columns": null,
            "grid_auto_flow": null,
            "grid_auto_rows": null,
            "grid_column": null,
            "grid_gap": null,
            "grid_row": null,
            "grid_template_areas": null,
            "grid_template_columns": null,
            "grid_template_rows": null,
            "height": null,
            "justify_content": null,
            "justify_items": null,
            "left": null,
            "margin": null,
            "max_height": null,
            "max_width": null,
            "min_height": null,
            "min_width": null,
            "object_fit": null,
            "object_position": null,
            "order": null,
            "overflow": null,
            "overflow_x": null,
            "overflow_y": null,
            "padding": null,
            "right": null,
            "top": null,
            "visibility": null,
            "width": null
          }
        },
        "f7d72fd1c95d446d99b69ffca01945d3": {
          "model_module": "@jupyter-widgets/controls",
          "model_name": "DescriptionStyleModel",
          "model_module_version": "1.5.0",
          "state": {
            "_model_module": "@jupyter-widgets/controls",
            "_model_module_version": "1.5.0",
            "_model_name": "DescriptionStyleModel",
            "_view_count": null,
            "_view_module": "@jupyter-widgets/base",
            "_view_module_version": "1.2.0",
            "_view_name": "StyleView",
            "description_width": ""
          }
        },
        "ad339cb926f640c0a38331d15348123a": {
          "model_module": "@jupyter-widgets/controls",
          "model_name": "HBoxModel",
          "model_module_version": "1.5.0",
          "state": {
            "_dom_classes": [],
            "_model_module": "@jupyter-widgets/controls",
            "_model_module_version": "1.5.0",
            "_model_name": "HBoxModel",
            "_view_count": null,
            "_view_module": "@jupyter-widgets/controls",
            "_view_module_version": "1.5.0",
            "_view_name": "HBoxView",
            "box_style": "",
            "children": [
              "IPY_MODEL_b3479eaadf2541279aced9587325663c",
              "IPY_MODEL_18db9b4a07cb4933899dd44810b5a6b8",
              "IPY_MODEL_04d4cd1303e44bcd893aef326c882326"
            ],
            "layout": "IPY_MODEL_005eddc9728542e3b8ac54c079cf289a"
          }
        },
        "b3479eaadf2541279aced9587325663c": {
          "model_module": "@jupyter-widgets/controls",
          "model_name": "HTMLModel",
          "model_module_version": "1.5.0",
          "state": {
            "_dom_classes": [],
            "_model_module": "@jupyter-widgets/controls",
            "_model_module_version": "1.5.0",
            "_model_name": "HTMLModel",
            "_view_count": null,
            "_view_module": "@jupyter-widgets/controls",
            "_view_module_version": "1.5.0",
            "_view_name": "HTMLView",
            "description": "",
            "description_tooltip": null,
            "layout": "IPY_MODEL_d8d4a7de70df41dcae1b9a135a94fab7",
            "placeholder": "​",
            "style": "IPY_MODEL_b6ef26d3eed14ed2ae58e8a4dee50efa",
            "value": ""
          }
        },
        "18db9b4a07cb4933899dd44810b5a6b8": {
          "model_module": "@jupyter-widgets/controls",
          "model_name": "FloatProgressModel",
          "model_module_version": "1.5.0",
          "state": {
            "_dom_classes": [],
            "_model_module": "@jupyter-widgets/controls",
            "_model_module_version": "1.5.0",
            "_model_name": "FloatProgressModel",
            "_view_count": null,
            "_view_module": "@jupyter-widgets/controls",
            "_view_module_version": "1.5.0",
            "_view_name": "ProgressView",
            "bar_style": "success",
            "description": "",
            "description_tooltip": null,
            "layout": "IPY_MODEL_c9cd20b0d987467a88a1ab3fc935e632",
            "max": 4422102,
            "min": 0,
            "orientation": "horizontal",
            "style": "IPY_MODEL_bb239becbf0141dc9041fd402c3e44c5",
            "value": 4422102
          }
        },
        "04d4cd1303e44bcd893aef326c882326": {
          "model_module": "@jupyter-widgets/controls",
          "model_name": "HTMLModel",
          "model_module_version": "1.5.0",
          "state": {
            "_dom_classes": [],
            "_model_module": "@jupyter-widgets/controls",
            "_model_module_version": "1.5.0",
            "_model_name": "HTMLModel",
            "_view_count": null,
            "_view_module": "@jupyter-widgets/controls",
            "_view_module_version": "1.5.0",
            "_view_name": "HTMLView",
            "description": "",
            "description_tooltip": null,
            "layout": "IPY_MODEL_44561ca811cc4e8ea470d79b59b6bd50",
            "placeholder": "​",
            "style": "IPY_MODEL_4c42318530454b1c98d8ffcaae1d1392",
            "value": " 4422656/? [00:00&lt;00:00, 7766272.66it/s]"
          }
        },
        "005eddc9728542e3b8ac54c079cf289a": {
          "model_module": "@jupyter-widgets/base",
          "model_name": "LayoutModel",
          "model_module_version": "1.2.0",
          "state": {
            "_model_module": "@jupyter-widgets/base",
            "_model_module_version": "1.2.0",
            "_model_name": "LayoutModel",
            "_view_count": null,
            "_view_module": "@jupyter-widgets/base",
            "_view_module_version": "1.2.0",
            "_view_name": "LayoutView",
            "align_content": null,
            "align_items": null,
            "align_self": null,
            "border": null,
            "bottom": null,
            "display": null,
            "flex": null,
            "flex_flow": null,
            "grid_area": null,
            "grid_auto_columns": null,
            "grid_auto_flow": null,
            "grid_auto_rows": null,
            "grid_column": null,
            "grid_gap": null,
            "grid_row": null,
            "grid_template_areas": null,
            "grid_template_columns": null,
            "grid_template_rows": null,
            "height": null,
            "justify_content": null,
            "justify_items": null,
            "left": null,
            "margin": null,
            "max_height": null,
            "max_width": null,
            "min_height": null,
            "min_width": null,
            "object_fit": null,
            "object_position": null,
            "order": null,
            "overflow": null,
            "overflow_x": null,
            "overflow_y": null,
            "padding": null,
            "right": null,
            "top": null,
            "visibility": null,
            "width": null
          }
        },
        "d8d4a7de70df41dcae1b9a135a94fab7": {
          "model_module": "@jupyter-widgets/base",
          "model_name": "LayoutModel",
          "model_module_version": "1.2.0",
          "state": {
            "_model_module": "@jupyter-widgets/base",
            "_model_module_version": "1.2.0",
            "_model_name": "LayoutModel",
            "_view_count": null,
            "_view_module": "@jupyter-widgets/base",
            "_view_module_version": "1.2.0",
            "_view_name": "LayoutView",
            "align_content": null,
            "align_items": null,
            "align_self": null,
            "border": null,
            "bottom": null,
            "display": null,
            "flex": null,
            "flex_flow": null,
            "grid_area": null,
            "grid_auto_columns": null,
            "grid_auto_flow": null,
            "grid_auto_rows": null,
            "grid_column": null,
            "grid_gap": null,
            "grid_row": null,
            "grid_template_areas": null,
            "grid_template_columns": null,
            "grid_template_rows": null,
            "height": null,
            "justify_content": null,
            "justify_items": null,
            "left": null,
            "margin": null,
            "max_height": null,
            "max_width": null,
            "min_height": null,
            "min_width": null,
            "object_fit": null,
            "object_position": null,
            "order": null,
            "overflow": null,
            "overflow_x": null,
            "overflow_y": null,
            "padding": null,
            "right": null,
            "top": null,
            "visibility": null,
            "width": null
          }
        },
        "b6ef26d3eed14ed2ae58e8a4dee50efa": {
          "model_module": "@jupyter-widgets/controls",
          "model_name": "DescriptionStyleModel",
          "model_module_version": "1.5.0",
          "state": {
            "_model_module": "@jupyter-widgets/controls",
            "_model_module_version": "1.5.0",
            "_model_name": "DescriptionStyleModel",
            "_view_count": null,
            "_view_module": "@jupyter-widgets/base",
            "_view_module_version": "1.2.0",
            "_view_name": "StyleView",
            "description_width": ""
          }
        },
        "c9cd20b0d987467a88a1ab3fc935e632": {
          "model_module": "@jupyter-widgets/base",
          "model_name": "LayoutModel",
          "model_module_version": "1.2.0",
          "state": {
            "_model_module": "@jupyter-widgets/base",
            "_model_module_version": "1.2.0",
            "_model_name": "LayoutModel",
            "_view_count": null,
            "_view_module": "@jupyter-widgets/base",
            "_view_module_version": "1.2.0",
            "_view_name": "LayoutView",
            "align_content": null,
            "align_items": null,
            "align_self": null,
            "border": null,
            "bottom": null,
            "display": null,
            "flex": null,
            "flex_flow": null,
            "grid_area": null,
            "grid_auto_columns": null,
            "grid_auto_flow": null,
            "grid_auto_rows": null,
            "grid_column": null,
            "grid_gap": null,
            "grid_row": null,
            "grid_template_areas": null,
            "grid_template_columns": null,
            "grid_template_rows": null,
            "height": null,
            "justify_content": null,
            "justify_items": null,
            "left": null,
            "margin": null,
            "max_height": null,
            "max_width": null,
            "min_height": null,
            "min_width": null,
            "object_fit": null,
            "object_position": null,
            "order": null,
            "overflow": null,
            "overflow_x": null,
            "overflow_y": null,
            "padding": null,
            "right": null,
            "top": null,
            "visibility": null,
            "width": null
          }
        },
        "bb239becbf0141dc9041fd402c3e44c5": {
          "model_module": "@jupyter-widgets/controls",
          "model_name": "ProgressStyleModel",
          "model_module_version": "1.5.0",
          "state": {
            "_model_module": "@jupyter-widgets/controls",
            "_model_module_version": "1.5.0",
            "_model_name": "ProgressStyleModel",
            "_view_count": null,
            "_view_module": "@jupyter-widgets/base",
            "_view_module_version": "1.2.0",
            "_view_name": "StyleView",
            "bar_color": null,
            "description_width": ""
          }
        },
        "44561ca811cc4e8ea470d79b59b6bd50": {
          "model_module": "@jupyter-widgets/base",
          "model_name": "LayoutModel",
          "model_module_version": "1.2.0",
          "state": {
            "_model_module": "@jupyter-widgets/base",
            "_model_module_version": "1.2.0",
            "_model_name": "LayoutModel",
            "_view_count": null,
            "_view_module": "@jupyter-widgets/base",
            "_view_module_version": "1.2.0",
            "_view_name": "LayoutView",
            "align_content": null,
            "align_items": null,
            "align_self": null,
            "border": null,
            "bottom": null,
            "display": null,
            "flex": null,
            "flex_flow": null,
            "grid_area": null,
            "grid_auto_columns": null,
            "grid_auto_flow": null,
            "grid_auto_rows": null,
            "grid_column": null,
            "grid_gap": null,
            "grid_row": null,
            "grid_template_areas": null,
            "grid_template_columns": null,
            "grid_template_rows": null,
            "height": null,
            "justify_content": null,
            "justify_items": null,
            "left": null,
            "margin": null,
            "max_height": null,
            "max_width": null,
            "min_height": null,
            "min_width": null,
            "object_fit": null,
            "object_position": null,
            "order": null,
            "overflow": null,
            "overflow_x": null,
            "overflow_y": null,
            "padding": null,
            "right": null,
            "top": null,
            "visibility": null,
            "width": null
          }
        },
        "4c42318530454b1c98d8ffcaae1d1392": {
          "model_module": "@jupyter-widgets/controls",
          "model_name": "DescriptionStyleModel",
          "model_module_version": "1.5.0",
          "state": {
            "_model_module": "@jupyter-widgets/controls",
            "_model_module_version": "1.5.0",
            "_model_name": "DescriptionStyleModel",
            "_view_count": null,
            "_view_module": "@jupyter-widgets/base",
            "_view_module_version": "1.2.0",
            "_view_name": "StyleView",
            "description_width": ""
          }
        },
        "e7f17018db2246a6bc7ab1d4ae205984": {
          "model_module": "@jupyter-widgets/controls",
          "model_name": "HBoxModel",
          "model_module_version": "1.5.0",
          "state": {
            "_dom_classes": [],
            "_model_module": "@jupyter-widgets/controls",
            "_model_module_version": "1.5.0",
            "_model_name": "HBoxModel",
            "_view_count": null,
            "_view_module": "@jupyter-widgets/controls",
            "_view_module_version": "1.5.0",
            "_view_name": "HBoxView",
            "box_style": "",
            "children": [
              "IPY_MODEL_118e7bcafec144e1a033951197cc5232",
              "IPY_MODEL_cddd2ca7a56a47bf886eb144c29f6b84",
              "IPY_MODEL_37fb06d601ea41e4870b23728b5fd7d8"
            ],
            "layout": "IPY_MODEL_a60a56ca812e433c9e067745f9e7a90d"
          }
        },
        "118e7bcafec144e1a033951197cc5232": {
          "model_module": "@jupyter-widgets/controls",
          "model_name": "HTMLModel",
          "model_module_version": "1.5.0",
          "state": {
            "_dom_classes": [],
            "_model_module": "@jupyter-widgets/controls",
            "_model_module_version": "1.5.0",
            "_model_name": "HTMLModel",
            "_view_count": null,
            "_view_module": "@jupyter-widgets/controls",
            "_view_module_version": "1.5.0",
            "_view_name": "HTMLView",
            "description": "",
            "description_tooltip": null,
            "layout": "IPY_MODEL_c86c1b6db149472c9418e76d6982f909",
            "placeholder": "​",
            "style": "IPY_MODEL_cf808ac1e6c1416e98e7298afc04a72e",
            "value": ""
          }
        },
        "cddd2ca7a56a47bf886eb144c29f6b84": {
          "model_module": "@jupyter-widgets/controls",
          "model_name": "FloatProgressModel",
          "model_module_version": "1.5.0",
          "state": {
            "_dom_classes": [],
            "_model_module": "@jupyter-widgets/controls",
            "_model_module_version": "1.5.0",
            "_model_name": "FloatProgressModel",
            "_view_count": null,
            "_view_module": "@jupyter-widgets/controls",
            "_view_module_version": "1.5.0",
            "_view_name": "ProgressView",
            "bar_style": "success",
            "description": "",
            "description_tooltip": null,
            "layout": "IPY_MODEL_8ed4ba07f32d4537890ca908eb6a41ad",
            "max": 5148,
            "min": 0,
            "orientation": "horizontal",
            "style": "IPY_MODEL_e172985af2074b758e4989793791bb79",
            "value": 5148
          }
        },
        "37fb06d601ea41e4870b23728b5fd7d8": {
          "model_module": "@jupyter-widgets/controls",
          "model_name": "HTMLModel",
          "model_module_version": "1.5.0",
          "state": {
            "_dom_classes": [],
            "_model_module": "@jupyter-widgets/controls",
            "_model_module_version": "1.5.0",
            "_model_name": "HTMLModel",
            "_view_count": null,
            "_view_module": "@jupyter-widgets/controls",
            "_view_module_version": "1.5.0",
            "_view_name": "HTMLView",
            "description": "",
            "description_tooltip": null,
            "layout": "IPY_MODEL_4c5a8668e5964ba9941c0a142b19d10e",
            "placeholder": "​",
            "style": "IPY_MODEL_9b3d664c1fd44c2abfc9003a3e728658",
            "value": " 6144/? [00:00&lt;00:00, 170525.44it/s]"
          }
        },
        "a60a56ca812e433c9e067745f9e7a90d": {
          "model_module": "@jupyter-widgets/base",
          "model_name": "LayoutModel",
          "model_module_version": "1.2.0",
          "state": {
            "_model_module": "@jupyter-widgets/base",
            "_model_module_version": "1.2.0",
            "_model_name": "LayoutModel",
            "_view_count": null,
            "_view_module": "@jupyter-widgets/base",
            "_view_module_version": "1.2.0",
            "_view_name": "LayoutView",
            "align_content": null,
            "align_items": null,
            "align_self": null,
            "border": null,
            "bottom": null,
            "display": null,
            "flex": null,
            "flex_flow": null,
            "grid_area": null,
            "grid_auto_columns": null,
            "grid_auto_flow": null,
            "grid_auto_rows": null,
            "grid_column": null,
            "grid_gap": null,
            "grid_row": null,
            "grid_template_areas": null,
            "grid_template_columns": null,
            "grid_template_rows": null,
            "height": null,
            "justify_content": null,
            "justify_items": null,
            "left": null,
            "margin": null,
            "max_height": null,
            "max_width": null,
            "min_height": null,
            "min_width": null,
            "object_fit": null,
            "object_position": null,
            "order": null,
            "overflow": null,
            "overflow_x": null,
            "overflow_y": null,
            "padding": null,
            "right": null,
            "top": null,
            "visibility": null,
            "width": null
          }
        },
        "c86c1b6db149472c9418e76d6982f909": {
          "model_module": "@jupyter-widgets/base",
          "model_name": "LayoutModel",
          "model_module_version": "1.2.0",
          "state": {
            "_model_module": "@jupyter-widgets/base",
            "_model_module_version": "1.2.0",
            "_model_name": "LayoutModel",
            "_view_count": null,
            "_view_module": "@jupyter-widgets/base",
            "_view_module_version": "1.2.0",
            "_view_name": "LayoutView",
            "align_content": null,
            "align_items": null,
            "align_self": null,
            "border": null,
            "bottom": null,
            "display": null,
            "flex": null,
            "flex_flow": null,
            "grid_area": null,
            "grid_auto_columns": null,
            "grid_auto_flow": null,
            "grid_auto_rows": null,
            "grid_column": null,
            "grid_gap": null,
            "grid_row": null,
            "grid_template_areas": null,
            "grid_template_columns": null,
            "grid_template_rows": null,
            "height": null,
            "justify_content": null,
            "justify_items": null,
            "left": null,
            "margin": null,
            "max_height": null,
            "max_width": null,
            "min_height": null,
            "min_width": null,
            "object_fit": null,
            "object_position": null,
            "order": null,
            "overflow": null,
            "overflow_x": null,
            "overflow_y": null,
            "padding": null,
            "right": null,
            "top": null,
            "visibility": null,
            "width": null
          }
        },
        "cf808ac1e6c1416e98e7298afc04a72e": {
          "model_module": "@jupyter-widgets/controls",
          "model_name": "DescriptionStyleModel",
          "model_module_version": "1.5.0",
          "state": {
            "_model_module": "@jupyter-widgets/controls",
            "_model_module_version": "1.5.0",
            "_model_name": "DescriptionStyleModel",
            "_view_count": null,
            "_view_module": "@jupyter-widgets/base",
            "_view_module_version": "1.2.0",
            "_view_name": "StyleView",
            "description_width": ""
          }
        },
        "8ed4ba07f32d4537890ca908eb6a41ad": {
          "model_module": "@jupyter-widgets/base",
          "model_name": "LayoutModel",
          "model_module_version": "1.2.0",
          "state": {
            "_model_module": "@jupyter-widgets/base",
            "_model_module_version": "1.2.0",
            "_model_name": "LayoutModel",
            "_view_count": null,
            "_view_module": "@jupyter-widgets/base",
            "_view_module_version": "1.2.0",
            "_view_name": "LayoutView",
            "align_content": null,
            "align_items": null,
            "align_self": null,
            "border": null,
            "bottom": null,
            "display": null,
            "flex": null,
            "flex_flow": null,
            "grid_area": null,
            "grid_auto_columns": null,
            "grid_auto_flow": null,
            "grid_auto_rows": null,
            "grid_column": null,
            "grid_gap": null,
            "grid_row": null,
            "grid_template_areas": null,
            "grid_template_columns": null,
            "grid_template_rows": null,
            "height": null,
            "justify_content": null,
            "justify_items": null,
            "left": null,
            "margin": null,
            "max_height": null,
            "max_width": null,
            "min_height": null,
            "min_width": null,
            "object_fit": null,
            "object_position": null,
            "order": null,
            "overflow": null,
            "overflow_x": null,
            "overflow_y": null,
            "padding": null,
            "right": null,
            "top": null,
            "visibility": null,
            "width": null
          }
        },
        "e172985af2074b758e4989793791bb79": {
          "model_module": "@jupyter-widgets/controls",
          "model_name": "ProgressStyleModel",
          "model_module_version": "1.5.0",
          "state": {
            "_model_module": "@jupyter-widgets/controls",
            "_model_module_version": "1.5.0",
            "_model_name": "ProgressStyleModel",
            "_view_count": null,
            "_view_module": "@jupyter-widgets/base",
            "_view_module_version": "1.2.0",
            "_view_name": "StyleView",
            "bar_color": null,
            "description_width": ""
          }
        },
        "4c5a8668e5964ba9941c0a142b19d10e": {
          "model_module": "@jupyter-widgets/base",
          "model_name": "LayoutModel",
          "model_module_version": "1.2.0",
          "state": {
            "_model_module": "@jupyter-widgets/base",
            "_model_module_version": "1.2.0",
            "_model_name": "LayoutModel",
            "_view_count": null,
            "_view_module": "@jupyter-widgets/base",
            "_view_module_version": "1.2.0",
            "_view_name": "LayoutView",
            "align_content": null,
            "align_items": null,
            "align_self": null,
            "border": null,
            "bottom": null,
            "display": null,
            "flex": null,
            "flex_flow": null,
            "grid_area": null,
            "grid_auto_columns": null,
            "grid_auto_flow": null,
            "grid_auto_rows": null,
            "grid_column": null,
            "grid_gap": null,
            "grid_row": null,
            "grid_template_areas": null,
            "grid_template_columns": null,
            "grid_template_rows": null,
            "height": null,
            "justify_content": null,
            "justify_items": null,
            "left": null,
            "margin": null,
            "max_height": null,
            "max_width": null,
            "min_height": null,
            "min_width": null,
            "object_fit": null,
            "object_position": null,
            "order": null,
            "overflow": null,
            "overflow_x": null,
            "overflow_y": null,
            "padding": null,
            "right": null,
            "top": null,
            "visibility": null,
            "width": null
          }
        },
        "9b3d664c1fd44c2abfc9003a3e728658": {
          "model_module": "@jupyter-widgets/controls",
          "model_name": "DescriptionStyleModel",
          "model_module_version": "1.5.0",
          "state": {
            "_model_module": "@jupyter-widgets/controls",
            "_model_module_version": "1.5.0",
            "_model_name": "DescriptionStyleModel",
            "_view_count": null,
            "_view_module": "@jupyter-widgets/base",
            "_view_module_version": "1.2.0",
            "_view_name": "StyleView",
            "description_width": ""
          }
        }
      }
    }
  },
  "cells": [
    {
      "cell_type": "markdown",
      "metadata": {
        "id": "view-in-github",
        "colab_type": "text"
      },
      "source": [
        "<a href=\"https://colab.research.google.com/github/Abonia1/Abusive-Language-Detection/blob/master/Computer_Vision_with_PyTorch.ipynb\" target=\"_parent\"><img src=\"https://colab.research.google.com/assets/colab-badge.svg\" alt=\"Open In Colab\"/></a>"
      ]
    },
    {
      "cell_type": "markdown",
      "source": [
        "## **Computer Vision with PyTorch’s TorchVision**\n",
        "TorchVision is PyTorch’s own computer vision library which contains many important and useful datasets as well as models and transformation operations that are often used in the area of computer vision.\n",
        "\n",
        "This notebook will show a basic data exploration of a very famous dataset known as the Fashion MNIST dataset using PyTorch’s TorchVision library."
      ],
      "metadata": {
        "id": "ymnVc724fzLd"
      }
    },
    {
      "cell_type": "markdown",
      "source": [
        "## **Import Packages**\n",
        "Import Necessary packages"
      ],
      "metadata": {
        "id": "g293Ov1qgrvz"
      }
    },
    {
      "cell_type": "code",
      "execution_count": 1,
      "metadata": {
        "id": "fn1-fMZndl2s"
      },
      "outputs": [],
      "source": [
        "import torch\n",
        "import torch.nn as nn\n",
        "import torch.optim as optim\n",
        "import torch.nn.functional as F\n",
        "\n",
        "import torchvision\n",
        "import torchvision.transforms as transforms"
      ]
    },
    {
      "cell_type": "markdown",
      "source": [
        "## Load Dataset\n",
        "Fashion MNIST dataset comes built-in with the torchvision package..\n",
        "\n",
        "Now we make an instance of the Fashion MNIST dataset calling it “train_set” using torchvision in the following way:"
      ],
      "metadata": {
        "id": "05s9epFtgJz7"
      }
    },
    {
      "cell_type": "code",
      "source": [
        "train_set = torchvision.datasets.FashionMNIST(\n",
        "    root='./data'\n",
        "    ,train=True\n",
        "    ,download=True\n",
        "    ,transform=transforms.Compose([\n",
        "        transforms.ToTensor()\n",
        "    ])\n",
        ")"
      ],
      "metadata": {
        "id": "emy8YP-jficO"
      },
      "execution_count": 2,
      "outputs": []
    },
    {
      "cell_type": "code",
      "source": [
        "train_loader = torch.utils.data.DataLoader(train_set\n",
        "    ,batch_size=1000\n",
        "    ,shuffle=True\n",
        ")"
      ],
      "metadata": {
        "id": "xrxt_a0afl4f"
      },
      "execution_count": 3,
      "outputs": []
    },
    {
      "cell_type": "markdown",
      "source": [
        "## Explore the Dataset"
      ],
      "metadata": {
        "id": "jCnJU3KgheUZ"
      }
    },
    {
      "cell_type": "markdown",
      "source": [
        "**check how many images we have in our train_set**"
      ],
      "metadata": {
        "id": "gGW3mTLhhU5G"
      }
    },
    {
      "cell_type": "code",
      "source": [
        "len(train_set)"
      ],
      "metadata": {
        "colab": {
          "base_uri": "https://localhost:8080/"
        },
        "id": "AGO_UlWBftzs",
        "outputId": "b83e3388-69c6-4080-d6f8-4846a7d26ba2"
      },
      "execution_count": 4,
      "outputs": [
        {
          "output_type": "execute_result",
          "data": {
            "text/plain": [
              "60000"
            ]
          },
          "metadata": {},
          "execution_count": 4
        }
      ]
    },
    {
      "cell_type": "code",
      "source": [
        "train_set.targets"
      ],
      "metadata": {
        "colab": {
          "base_uri": "https://localhost:8080/"
        },
        "id": "3a4dsW6EhSiG",
        "outputId": "118d66fc-a9eb-47fe-9b3e-dc2a52b5b5b8"
      },
      "execution_count": 5,
      "outputs": [
        {
          "output_type": "execute_result",
          "data": {
            "text/plain": [
              "tensor([9, 0, 0,  ..., 3, 0, 5])"
            ]
          },
          "metadata": {},
          "execution_count": 5
        }
      ]
    },
    {
      "cell_type": "code",
      "source": [
        "train_set.targets.bincount()"
      ],
      "metadata": {
        "colab": {
          "base_uri": "https://localhost:8080/"
        },
        "id": "4vIJp90uhcxi",
        "outputId": "a825b54c-cc38-43bf-ad6b-19dc5fa8e50a"
      },
      "execution_count": 6,
      "outputs": [
        {
          "output_type": "execute_result",
          "data": {
            "text/plain": [
              "tensor([6000, 6000, 6000, 6000, 6000, 6000, 6000, 6000, 6000, 6000])"
            ]
          },
          "metadata": {},
          "execution_count": 6
        }
      ]
    },
    {
      "cell_type": "markdown",
      "source": [
        "We can see that we have 10 target values and they have equal distribution within them. So class are balanced."
      ],
      "metadata": {
        "id": "-_NCWjgZh2XE"
      }
    },
    {
      "cell_type": "code",
      "source": [
        "sample = next(iter(train_set))\n",
        "len(sample)        \n",
        "type(sample)  "
      ],
      "metadata": {
        "colab": {
          "base_uri": "https://localhost:8080/"
        },
        "id": "6RUYLYwXhu2g",
        "outputId": "8b5538ae-4836-46e5-c170-ddbb2c728033"
      },
      "execution_count": 7,
      "outputs": [
        {
          "output_type": "execute_result",
          "data": {
            "text/plain": [
              "tuple"
            ]
          },
          "metadata": {},
          "execution_count": 7
        }
      ]
    },
    {
      "cell_type": "code",
      "source": [
        "image, label = sample\n",
        "image = sample[0]\n",
        "label = sample[1]"
      ],
      "metadata": {
        "id": "GI92NzM3iAOi"
      },
      "execution_count": 8,
      "outputs": []
    },
    {
      "cell_type": "markdown",
      "source": [
        "**Now we can check the type and shape of image and label individually.**"
      ],
      "metadata": {
        "id": "pePsLJ2gizan"
      }
    },
    {
      "cell_type": "code",
      "source": [
        "type(image)                  \n"
      ],
      "metadata": {
        "colab": {
          "base_uri": "https://localhost:8080/"
        },
        "id": "OQXkJ_FSi2t0",
        "outputId": "4d268a40-a558-44e0-a736-e9f6b03cde4c"
      },
      "execution_count": 9,
      "outputs": [
        {
          "output_type": "execute_result",
          "data": {
            "text/plain": [
              "torch.Tensor"
            ]
          },
          "metadata": {},
          "execution_count": 9
        }
      ]
    },
    {
      "cell_type": "code",
      "source": [
        "type(label)"
      ],
      "metadata": {
        "colab": {
          "base_uri": "https://localhost:8080/"
        },
        "id": "j5m-MpFsi4IN",
        "outputId": "8dcb1ea1-fc8b-41ed-c21e-5ced36abeab7"
      },
      "execution_count": 10,
      "outputs": [
        {
          "output_type": "execute_result",
          "data": {
            "text/plain": [
              "int"
            ]
          },
          "metadata": {},
          "execution_count": 10
        }
      ]
    },
    {
      "cell_type": "code",
      "source": [
        "image.shape                  \n",
        "torch.tensor(label).shape    \n",
        "image.squeeze().shape  "
      ],
      "metadata": {
        "colab": {
          "base_uri": "https://localhost:8080/"
        },
        "id": "gQI-z9rwiL88",
        "outputId": "9b1b1059-2310-407f-93f7-367aa6fd9aa1"
      },
      "execution_count": 11,
      "outputs": [
        {
          "output_type": "execute_result",
          "data": {
            "text/plain": [
              "torch.Size([28, 28])"
            ]
          },
          "metadata": {},
          "execution_count": 11
        }
      ]
    },
    {
      "cell_type": "markdown",
      "source": [
        "## Visualize the image"
      ],
      "metadata": {
        "id": "IR_sPImAiodZ"
      }
    },
    {
      "cell_type": "code",
      "source": [
        "import matplotlib.pyplot as plt\n",
        "plt.imshow(image.squeeze(), cmap=\"gray\")"
      ],
      "metadata": {
        "colab": {
          "base_uri": "https://localhost:8080/",
          "height": 283
        },
        "id": "IYhUKMSEiVKU",
        "outputId": "2cd7411b-04ed-43f2-e584-3432192c308b"
      },
      "execution_count": 12,
      "outputs": [
        {
          "output_type": "execute_result",
          "data": {
            "text/plain": [
              "<matplotlib.image.AxesImage at 0x7fcdbc668050>"
            ]
          },
          "metadata": {},
          "execution_count": 12
        },
        {
          "output_type": "display_data",
          "data": {
            "text/plain": [
              "<Figure size 432x288 with 1 Axes>"
            ],
            "image/png": "[encoded data removed]"
          },
          "metadata": {
            "needs_background": "light"
          }
        }
      ]
    },
    {
      "cell_type": "code",
      "source": [
        "torch.tensor(label)"
      ],
      "metadata": {
        "colab": {
          "base_uri": "https://localhost:8080/"
        },
        "id": "sRS5-P9sjb-H",
        "outputId": "3e5b2b0e-18a3-45c8-9582-ed8eb435fe44"
      },
      "execution_count": 13,
      "outputs": [
        {
          "output_type": "execute_result",
          "data": {
            "text/plain": [
              "tensor(9)"
            ]
          },
          "metadata": {},
          "execution_count": 13
        }
      ]
    },
    {
      "cell_type": "code",
      "source": [
        "how_many_to_plot = 20\n",
        "\n",
        "train_loader = torch.utils.data.DataLoader(\n",
        "    train_set, batch_size=1, shuffle=True\n",
        ")\n",
        "\n",
        "plt.figure(figsize=(50,50))\n",
        "for i, batch in enumerate(train_loader, start=1):\n",
        "    image, label = batch\n",
        "    plt.subplot(10,10,i)\n",
        "    plt.imshow(image.reshape(28,28), cmap='gray')\n",
        "    plt.axis('off')\n",
        "    plt.title(train_set.classes[label.item()], fontsize=28)\n",
        "    if (i >= how_many_to_plot): break\n",
        "plt.show()"
      ],
      "metadata": {
        "colab": {
          "base_uri": "https://localhost:8080/",
          "height": 370
        },
        "id": "KX_cL6ucis7-",
        "outputId": "dfd7ec0d-e0cd-440b-8866-5b119963cfbf"
      },
      "execution_count": 14,
      "outputs": [
        {
          "output_type": "display_data",
          "data": {
            "text/plain": [
              "<Figure size 3600x3600 with 20 Axes>"
            ],
            "image/png": "[encoded data removed]"
          },
          "metadata": {
            "needs_background": "light"
          }
        }
      ]
    },
    {
      "cell_type": "markdown",
      "source": [
        "### Define the hyperparameters"
      ],
      "metadata": {
        "id": "D8-cMPUckUUv"
      }
    },
    {
      "cell_type": "code",
      "source": [
        "n_epochs = 3\n",
        "batch_size_train = 64\n",
        "batch_size_test = 1000\n",
        "learning_rate = 0.01\n",
        "momentum = 0.5\n",
        "log_interval = 10\n",
        "\n",
        "random_seed = 1\n",
        "torch.backends.cudnn.enabled = False\n",
        "torch.manual_seed(random_seed)"
      ],
      "metadata": {
        "colab": {
          "base_uri": "https://localhost:8080/"
        },
        "id": "3WWPLAGejYOl",
        "outputId": "fe4194a5-f48b-4a84-cd79-67154d052c7e"
      },
      "execution_count": 15,
      "outputs": [
        {
          "output_type": "execute_result",
          "data": {
            "text/plain": [
              "<torch._C.Generator at 0x7fcdc016b810>"
            ]
          },
          "metadata": {},
          "execution_count": 15
        }
      ]
    },
    {
      "cell_type": "code",
      "source": [
        "train_loader = torch.utils.data.DataLoader(\n",
        "  torchvision.datasets.FashionMNIST('/files/', train=True, download=True,\n",
        "                             transform=torchvision.transforms.Compose([\n",
        "                               torchvision.transforms.ToTensor(),\n",
        "                               torchvision.transforms.Normalize(\n",
        "                                 (0.1307,), (0.3081,))\n",
        "                             ])),\n",
        "  batch_size=batch_size_train, shuffle=True)\n",
        "\n",
        "test_loader = torch.utils.data.DataLoader(\n",
        "  torchvision.datasets.FashionMNIST('/files/', train=False, download=True,\n",
        "                             transform=torchvision.transforms.Compose([\n",
        "                               torchvision.transforms.ToTensor(),\n",
        "                               torchvision.transforms.Normalize(\n",
        "                                 (0.1307,), (0.3081,))\n",
        "                             ])),\n",
        "  batch_size=batch_size_test, shuffle=True)"
      ],
      "metadata": {
        "colab": {
          "base_uri": "https://localhost:8080/",
          "height": 439,
          "referenced_widgets": [
            "4097552d38d94c99bce46b5fbbbd8f31",
            "099d3a0f3ba3495fa304d07cadffefc7",
            "1061094c79424c84813d7b3222802919",
            "8120260c1e8b462eaaad54ac4f198f37",
            "4413257a7f5a485bad9180712daf33ae",
            "5484c9c95ed34a0f9948c793b27db4dc",
            "f156ff3740ab41b5ad9f689c338b2940",
            "5f98d7f3701b453f9aa0d4d4edafa6c6",
            "607d4cfaaa7548a39704eaa7b1b7c70d",
            "2f72e5c46d6a4b4cb448a0a2e91e86cc",
            "d2f420166127478da3cb3637585bc0e2",
            "568f554a626543d48750c595f5777011",
            "79d3ce6be4914ea8b5c040f4e54c55ad",
            "7d480f8715204256a1c67ab79e52d1ef",
            "84ccf98b03c542abbcbab4a6cf526be9",
            "d25234c9cf1a426dba9a2ee2c03f401a",
            "11f048bf5e2d45f0a5ec516f6ad490d2",
            "2ab03f0471a64eddafa4a1e487790419",
            "21c561b8a98e4de19335278c6889e726",
            "bde3afdf137a440d978c2d29be4d3bea",
            "812bd86aa77a4fb98bb5fccb866ae504",
            "f7d72fd1c95d446d99b69ffca01945d3",
            "ad339cb926f640c0a38331d15348123a",
            "b3479eaadf2541279aced9587325663c",
            "18db9b4a07cb4933899dd44810b5a6b8",
            "04d4cd1303e44bcd893aef326c882326",
            "005eddc9728542e3b8ac54c079cf289a",
            "d8d4a7de70df41dcae1b9a135a94fab7",
            "b6ef26d3eed14ed2ae58e8a4dee50efa",
            "c9cd20b0d987467a88a1ab3fc935e632",
            "bb239becbf0141dc9041fd402c3e44c5",
            "44561ca811cc4e8ea470d79b59b6bd50",
            "4c42318530454b1c98d8ffcaae1d1392",
            "e7f17018db2246a6bc7ab1d4ae205984",
            "118e7bcafec144e1a033951197cc5232",
            "cddd2ca7a56a47bf886eb144c29f6b84",
            "37fb06d601ea41e4870b23728b5fd7d8",
            "a60a56ca812e433c9e067745f9e7a90d",
            "c86c1b6db149472c9418e76d6982f909",
            "cf808ac1e6c1416e98e7298afc04a72e",
            "8ed4ba07f32d4537890ca908eb6a41ad",
            "e172985af2074b758e4989793791bb79",
            "4c5a8668e5964ba9941c0a142b19d10e",
            "9b3d664c1fd44c2abfc9003a3e728658"
          ]
        },
        "id": "3IN795zDkfOz",
        "outputId": "41cdb344-3293-4a6f-e883-48afea48c130"
      },
      "execution_count": 18,
      "outputs": [
        {
          "output_type": "stream",
          "name": "stdout",
          "text": [
            "Downloading http://fashion-mnist.s3-website.eu-central-1.amazonaws.com/train-images-idx3-ubyte.gz\n",
            "Downloading http://fashion-mnist.s3-website.eu-central-1.amazonaws.com/train-images-idx3-ubyte.gz to /files/FashionMNIST/raw/train-images-idx3-ubyte.gz\n"
          ]
        },
        {
          "output_type": "display_data",
          "data": {
            "text/plain": [
              "  0%|          | 0/26421880 [00:00<?, ?it/s]"
            ],
            "application/vnd.jupyter.widget-view+json": {
              "version_major": 2,
              "version_minor": 0,
              "model_id": "4097552d38d94c99bce46b5fbbbd8f31"
            }
          },
          "metadata": {}
        },
        {
          "output_type": "stream",
          "name": "stdout",
          "text": [
            "Extracting /files/FashionMNIST/raw/train-images-idx3-ubyte.gz to /files/FashionMNIST/raw\n",
            "\n",
            "Downloading http://fashion-mnist.s3-website.eu-central-1.amazonaws.com/train-labels-idx1-ubyte.gz\n",
            "Downloading http://fashion-mnist.s3-website.eu-central-1.amazonaws.com/train-labels-idx1-ubyte.gz to /files/FashionMNIST/raw/train-labels-idx1-ubyte.gz\n"
          ]
        },
        {
          "output_type": "display_data",
          "data": {
            "text/plain": [
              "  0%|          | 0/29515 [00:00<?, ?it/s]"
            ],
            "application/vnd.jupyter.widget-view+json": {
              "version_major": 2,
              "version_minor": 0,
              "model_id": "568f554a626543d48750c595f5777011"
            }
          },
          "metadata": {}
        },
        {
          "output_type": "stream",
          "name": "stdout",
          "text": [
            "Extracting /files/FashionMNIST/raw/train-labels-idx1-ubyte.gz to /files/FashionMNIST/raw\n",
            "\n",
            "Downloading http://fashion-mnist.s3-website.eu-central-1.amazonaws.com/t10k-images-idx3-ubyte.gz\n",
            "Downloading http://fashion-mnist.s3-website.eu-central-1.amazonaws.com/t10k-images-idx3-ubyte.gz to /files/FashionMNIST/raw/t10k-images-idx3-ubyte.gz\n"
          ]
        },
        {
          "output_type": "display_data",
          "data": {
            "text/plain": [
              "  0%|          | 0/4422102 [00:00<?, ?it/s]"
            ],
            "application/vnd.jupyter.widget-view+json": {
              "version_major": 2,
              "version_minor": 0,
              "model_id": "ad339cb926f640c0a38331d15348123a"
            }
          },
          "metadata": {}
        },
        {
          "output_type": "stream",
          "name": "stdout",
          "text": [
            "Extracting /files/FashionMNIST/raw/t10k-images-idx3-ubyte.gz to /files/FashionMNIST/raw\n",
            "\n",
            "Downloading http://fashion-mnist.s3-website.eu-central-1.amazonaws.com/t10k-labels-idx1-ubyte.gz\n",
            "Downloading http://fashion-mnist.s3-website.eu-central-1.amazonaws.com/t10k-labels-idx1-ubyte.gz to /files/FashionMNIST/raw/t10k-labels-idx1-ubyte.gz\n"
          ]
        },
        {
          "output_type": "display_data",
          "data": {
            "text/plain": [
              "  0%|          | 0/5148 [00:00<?, ?it/s]"
            ],
            "application/vnd.jupyter.widget-view+json": {
              "version_major": 2,
              "version_minor": 0,
              "model_id": "e7f17018db2246a6bc7ab1d4ae205984"
            }
          },
          "metadata": {}
        },
        {
          "output_type": "stream",
          "name": "stdout",
          "text": [
            "Extracting /files/FashionMNIST/raw/t10k-labels-idx1-ubyte.gz to /files/FashionMNIST/raw\n",
            "\n"
          ]
        }
      ]
    },
    {
      "cell_type": "code",
      "source": [
        "examples = enumerate(test_loader)\n",
        "batch_idx, (example_data, example_targets) = next(examples)"
      ],
      "metadata": {
        "id": "nxHKgvHNkxwG"
      },
      "execution_count": 19,
      "outputs": []
    },
    {
      "cell_type": "code",
      "source": [
        "example_data.shape"
      ],
      "metadata": {
        "colab": {
          "base_uri": "https://localhost:8080/"
        },
        "id": "v7DDGPfLlKgN",
        "outputId": "c17cc5db-9f95-41bb-a589-81a4f19c46df"
      },
      "execution_count": 20,
      "outputs": [
        {
          "output_type": "execute_result",
          "data": {
            "text/plain": [
              "torch.Size([1000, 1, 28, 28])"
            ]
          },
          "metadata": {},
          "execution_count": 20
        }
      ]
    },
    {
      "cell_type": "markdown",
      "source": [
        "## Building the Network"
      ],
      "metadata": {
        "id": "Iqym25ZxlnAl"
      }
    },
    {
      "cell_type": "code",
      "source": [
        "import torch.nn as nn\n",
        "import torch.nn.functional as F\n",
        "import torch.optim as optim"
      ],
      "metadata": {
        "id": "u1HJHAPIlfaZ"
      },
      "execution_count": 22,
      "outputs": []
    },
    {
      "cell_type": "markdown",
      "source": [
        "We'll use two 2-D convolutional layers followed by two fully-connected (or linear) layers. As activation function we'll choose rectified linear units (ReLUs in short) and as a means of regularization we'll use two dropout layers. In PyTorch a nice way to build a network is by creating a new class for the network we wish to build. "
      ],
      "metadata": {
        "id": "d4W5dlh2nL5B"
      }
    },
    {
      "cell_type": "code",
      "source": [
        "class Net(nn.Module):\n",
        "    def __init__(self):\n",
        "        super(Net, self).__init__()\n",
        "        self.conv1 = nn.Conv2d(1, 10, kernel_size=5)\n",
        "        self.conv2 = nn.Conv2d(10, 20, kernel_size=5)\n",
        "        self.conv2_drop = nn.Dropout2d()\n",
        "        self.fc1 = nn.Linear(320, 50)\n",
        "        self.fc2 = nn.Linear(50, 10)\n",
        "\n",
        "    def forward(self, x):\n",
        "        x = F.relu(F.max_pool2d(self.conv1(x), 2))\n",
        "        x = F.relu(F.max_pool2d(self.conv2_drop(self.conv2(x)), 2))\n",
        "        x = x.view(-1, 320)\n",
        "        x = F.relu(self.fc1(x))\n",
        "        x = F.dropout(x, training=self.training)\n",
        "        x = self.fc2(x)\n",
        "        return F.log_softmax(x)"
      ],
      "metadata": {
        "id": "1M1hVB5JmuiQ"
      },
      "execution_count": 23,
      "outputs": []
    },
    {
      "cell_type": "markdown",
      "source": [
        "Broadly speaking we can think of the torch.nn layers as which contain trainable parameters while torch.nn.functional are purely functional. The forward() pass defines the way we compute our output using the given layers and functions. It would be perfectly fine to print out tensors somewhere in the forward pass for easier debugging. This comes in handy when experimenting with more complex models. Note that the forward pass could make use of e.g. a member variable or even the data itself to determine the execution path - and it can also make use of multiple arguments!"
      ],
      "metadata": {
        "id": "OZMI_hMinpga"
      }
    },
    {
      "cell_type": "code",
      "source": [
        "network = Net()\n",
        "optimizer = optim.SGD(network.parameters(), lr=learning_rate,\n",
        "                      momentum=momentum)"
      ],
      "metadata": {
        "id": "I4lmuAnMmywy"
      },
      "execution_count": 24,
      "outputs": []
    },
    {
      "cell_type": "markdown",
      "source": [
        "### Training the Model\n",
        "First we want to make sure our network is in training mode. Then we iterate over all training data once per epoch. Loading the individual batches is handled by the DataLoader. First we need to manually set the gradients to zero using optimizer.zero_grad() since PyTorch by default accumulates gradients. We then produce the output of our network (forward pass) and compute a negative log-likelihodd loss between the output and the ground truth label. The backward() call we now collect a new set of gradients which we propagate back into each of the network's parameters using optimizer.step(). For more detailed information about the inner workings of PyTorch's automatic gradient system, see the official docs for autograd "
      ],
      "metadata": {
        "id": "BLJKAZnynv4g"
      }
    },
    {
      "cell_type": "code",
      "source": [
        "train_losses = []\n",
        "train_counter = []\n",
        "test_losses = []\n",
        "test_counter = [i*len(train_loader.dataset) for i in range(n_epochs + 1)]"
      ],
      "metadata": {
        "id": "mljHaDPHniPX"
      },
      "execution_count": 25,
      "outputs": []
    },
    {
      "cell_type": "code",
      "source": [
        "def train(epoch):\n",
        "  network.train()\n",
        "  for batch_idx, (data, target) in enumerate(train_loader):\n",
        "    optimizer.zero_grad()\n",
        "    output = network(data)\n",
        "    loss = F.nll_loss(output, target)\n",
        "    loss.backward()\n",
        "    optimizer.step()\n",
        "    if batch_idx % log_interval == 0:\n",
        "      print('Train Epoch: {} [{}/{} ({:.0f}%)]\\tLoss: {:.6f}'.format(\n",
        "        epoch, batch_idx * len(data), len(train_loader.dataset),\n",
        "        100. * batch_idx / len(train_loader), loss.item()))\n",
        "      train_losses.append(loss.item())\n",
        "      train_counter.append(\n",
        "        (batch_idx*64) + ((epoch-1)*len(train_loader.dataset)))\n",
        "      torch.save(network.state_dict(), '/model.pth')\n",
        "      torch.save(optimizer.state_dict(), '/roptimizer.pth')"
      ],
      "metadata": {
        "id": "IG468NtMn1fv"
      },
      "execution_count": 39,
      "outputs": []
    },
    {
      "cell_type": "code",
      "source": [
        "def test():\n",
        "  network.eval()\n",
        "  test_loss = 0\n",
        "  correct = 0\n",
        "  with torch.no_grad():\n",
        "    for data, target in test_loader:\n",
        "      output = network(data)\n",
        "      test_loss += F.nll_loss(output, target, size_average=False).item()\n",
        "      pred = output.data.max(1, keepdim=True)[1]\n",
        "      correct += pred.eq(target.data.view_as(pred)).sum()\n",
        "  test_loss /= len(test_loader.dataset)\n",
        "  test_losses.append(test_loss)\n",
        "  print('\\nTest set: Avg. loss: {:.4f}, Accuracy: {}/{} ({:.0f}%)\\n'.format(\n",
        "    test_loss, correct, len(test_loader.dataset),\n",
        "    100. * correct / len(test_loader.dataset)))"
      ],
      "metadata": {
        "id": "xdIcFqPCn5Mg"
      },
      "execution_count": 40,
      "outputs": []
    },
    {
      "cell_type": "code",
      "source": [
        "test()\n",
        "for epoch in range(1, n_epochs + 1):\n",
        "  train(epoch)\n",
        "  test()\n"
      ],
      "metadata": {
        "colab": {
          "base_uri": "https://localhost:8080/"
        },
        "id": "M1gCO3bfoC--",
        "outputId": "f02076d4-3351-4d91-efea-d81605f15a14"
      },
      "execution_count": 42,
      "outputs": [
        {
          "output_type": "stream",
          "name": "stderr",
          "text": [
            "/usr/local/lib/python3.7/dist-packages/ipykernel_launcher.py:17: UserWarning: Implicit dimension choice for log_softmax has been deprecated. Change the call to include dim=X as an argument.\n",
            "/usr/local/lib/python3.7/dist-packages/torch/nn/_reduction.py:42: UserWarning: size_average and reduce args will be deprecated, please use reduction='sum' instead.\n",
            "  warnings.warn(warning.format(ret))\n"
          ]
        },
        {
          "output_type": "stream",
          "name": "stdout",
          "text": [
            "\n",
            "Test set: Avg. loss: 0.8288, Accuracy: 7081/10000 (71%)\n",
            "\n",
            "Train Epoch: 1 [0/60000 (0%)]\tLoss: 0.858629\n",
            "Train Epoch: 1 [640/60000 (1%)]\tLoss: 0.914645\n",
            "Train Epoch: 1 [1280/60000 (2%)]\tLoss: 0.883459\n",
            "Train Epoch: 1 [1920/60000 (3%)]\tLoss: 0.786227\n",
            "Train Epoch: 1 [2560/60000 (4%)]\tLoss: 1.178739\n",
            "Train Epoch: 1 [3200/60000 (5%)]\tLoss: 0.921950\n",
            "Train Epoch: 1 [3840/60000 (6%)]\tLoss: 0.997526\n",
            "Train Epoch: 1 [4480/60000 (7%)]\tLoss: 0.956169\n",
            "Train Epoch: 1 [5120/60000 (9%)]\tLoss: 0.900803\n",
            "Train Epoch: 1 [5760/60000 (10%)]\tLoss: 1.150420\n",
            "Train Epoch: 1 [6400/60000 (11%)]\tLoss: 1.057913\n",
            "Train Epoch: 1 [7040/60000 (12%)]\tLoss: 1.239937\n",
            "Train Epoch: 1 [7680/60000 (13%)]\tLoss: 0.902461\n",
            "Train Epoch: 1 [8320/60000 (14%)]\tLoss: 0.840518\n",
            "Train Epoch: 1 [8960/60000 (15%)]\tLoss: 0.926559\n",
            "Train Epoch: 1 [9600/60000 (16%)]\tLoss: 0.969651\n",
            "Train Epoch: 1 [10240/60000 (17%)]\tLoss: 1.166016\n",
            "Train Epoch: 1 [10880/60000 (18%)]\tLoss: 0.965748\n",
            "Train Epoch: 1 [11520/60000 (19%)]\tLoss: 1.050037\n",
            "Train Epoch: 1 [12160/60000 (20%)]\tLoss: 1.003410\n",
            "Train Epoch: 1 [12800/60000 (21%)]\tLoss: 0.832487\n",
            "Train Epoch: 1 [13440/60000 (22%)]\tLoss: 0.990335\n",
            "Train Epoch: 1 [14080/60000 (23%)]\tLoss: 1.172999\n",
            "Train Epoch: 1 [14720/60000 (25%)]\tLoss: 1.111004\n",
            "Train Epoch: 1 [15360/60000 (26%)]\tLoss: 0.937350\n",
            "Train Epoch: 1 [16000/60000 (27%)]\tLoss: 0.818803\n",
            "Train Epoch: 1 [16640/60000 (28%)]\tLoss: 0.974328\n",
            "Train Epoch: 1 [17280/60000 (29%)]\tLoss: 0.953883\n",
            "Train Epoch: 1 [17920/60000 (30%)]\tLoss: 0.905931\n",
            "Train Epoch: 1 [18560/60000 (31%)]\tLoss: 0.987387\n",
            "Train Epoch: 1 [19200/60000 (32%)]\tLoss: 0.899397\n",
            "Train Epoch: 1 [19840/60000 (33%)]\tLoss: 0.808622\n",
            "Train Epoch: 1 [20480/60000 (34%)]\tLoss: 0.805592\n",
            "Train Epoch: 1 [21120/60000 (35%)]\tLoss: 0.818571\n",
            "Train Epoch: 1 [21760/60000 (36%)]\tLoss: 1.129027\n",
            "Train Epoch: 1 [22400/60000 (37%)]\tLoss: 1.076190\n",
            "Train Epoch: 1 [23040/60000 (38%)]\tLoss: 0.884531\n",
            "Train Epoch: 1 [23680/60000 (39%)]\tLoss: 0.990379\n",
            "Train Epoch: 1 [24320/60000 (41%)]\tLoss: 0.827555\n",
            "Train Epoch: 1 [24960/60000 (42%)]\tLoss: 0.768553\n",
            "Train Epoch: 1 [25600/60000 (43%)]\tLoss: 0.792505\n",
            "Train Epoch: 1 [26240/60000 (44%)]\tLoss: 0.735784\n",
            "Train Epoch: 1 [26880/60000 (45%)]\tLoss: 1.118081\n",
            "Train Epoch: 1 [27520/60000 (46%)]\tLoss: 0.947943\n",
            "Train Epoch: 1 [28160/60000 (47%)]\tLoss: 0.818559\n",
            "Train Epoch: 1 [28800/60000 (48%)]\tLoss: 0.962958\n",
            "Train Epoch: 1 [29440/60000 (49%)]\tLoss: 0.732713\n",
            "Train Epoch: 1 [30080/60000 (50%)]\tLoss: 0.963354\n",
            "Train Epoch: 1 [30720/60000 (51%)]\tLoss: 1.089215\n",
            "Train Epoch: 1 [31360/60000 (52%)]\tLoss: 1.071901\n",
            "Train Epoch: 1 [32000/60000 (53%)]\tLoss: 0.953934\n",
            "Train Epoch: 1 [32640/60000 (54%)]\tLoss: 1.122963\n",
            "Train Epoch: 1 [33280/60000 (55%)]\tLoss: 0.938793\n",
            "Train Epoch: 1 [33920/60000 (57%)]\tLoss: 0.966830\n",
            "Train Epoch: 1 [34560/60000 (58%)]\tLoss: 0.903880\n",
            "Train Epoch: 1 [35200/60000 (59%)]\tLoss: 1.024214\n",
            "Train Epoch: 1 [35840/60000 (60%)]\tLoss: 0.803011\n",
            "Train Epoch: 1 [36480/60000 (61%)]\tLoss: 0.829519\n",
            "Train Epoch: 1 [37120/60000 (62%)]\tLoss: 0.830226\n",
            "Train Epoch: 1 [37760/60000 (63%)]\tLoss: 1.013440\n",
            "Train Epoch: 1 [38400/60000 (64%)]\tLoss: 0.781397\n",
            "Train Epoch: 1 [39040/60000 (65%)]\tLoss: 0.554812\n",
            "Train Epoch: 1 [39680/60000 (66%)]\tLoss: 0.995747\n",
            "Train Epoch: 1 [40320/60000 (67%)]\tLoss: 0.839676\n",
            "Train Epoch: 1 [40960/60000 (68%)]\tLoss: 0.825490\n",
            "Train Epoch: 1 [41600/60000 (69%)]\tLoss: 0.921869\n",
            "Train Epoch: 1 [42240/60000 (70%)]\tLoss: 0.504807\n",
            "Train Epoch: 1 [42880/60000 (71%)]\tLoss: 0.800713\n",
            "Train Epoch: 1 [43520/60000 (72%)]\tLoss: 0.894209\n",
            "Train Epoch: 1 [44160/60000 (74%)]\tLoss: 0.811615\n",
            "Train Epoch: 1 [44800/60000 (75%)]\tLoss: 0.650657\n",
            "Train Epoch: 1 [45440/60000 (76%)]\tLoss: 0.728213\n",
            "Train Epoch: 1 [46080/60000 (77%)]\tLoss: 1.064421\n",
            "Train Epoch: 1 [46720/60000 (78%)]\tLoss: 0.869002\n",
            "Train Epoch: 1 [47360/60000 (79%)]\tLoss: 0.861491\n",
            "Train Epoch: 1 [48000/60000 (80%)]\tLoss: 0.703634\n",
            "Train Epoch: 1 [48640/60000 (81%)]\tLoss: 0.965143\n",
            "Train Epoch: 1 [49280/60000 (82%)]\tLoss: 0.725573\n",
            "Train Epoch: 1 [49920/60000 (83%)]\tLoss: 0.909678\n",
            "Train Epoch: 1 [50560/60000 (84%)]\tLoss: 0.902714\n",
            "Train Epoch: 1 [51200/60000 (85%)]\tLoss: 0.884332\n",
            "Train Epoch: 1 [51840/60000 (86%)]\tLoss: 0.864032\n",
            "Train Epoch: 1 [52480/60000 (87%)]\tLoss: 0.661078\n",
            "Train Epoch: 1 [53120/60000 (88%)]\tLoss: 0.935265\n",
            "Train Epoch: 1 [53760/60000 (90%)]\tLoss: 0.748655\n",
            "Train Epoch: 1 [54400/60000 (91%)]\tLoss: 0.783180\n",
            "Train Epoch: 1 [55040/60000 (92%)]\tLoss: 0.880235\n",
            "Train Epoch: 1 [55680/60000 (93%)]\tLoss: 1.158619\n",
            "Train Epoch: 1 [56320/60000 (94%)]\tLoss: 0.670264\n",
            "Train Epoch: 1 [56960/60000 (95%)]\tLoss: 0.767917\n",
            "Train Epoch: 1 [57600/60000 (96%)]\tLoss: 0.603201\n",
            "Train Epoch: 1 [58240/60000 (97%)]\tLoss: 0.806796\n",
            "Train Epoch: 1 [58880/60000 (98%)]\tLoss: 0.851930\n",
            "Train Epoch: 1 [59520/60000 (99%)]\tLoss: 0.547565\n",
            "\n",
            "Test set: Avg. loss: 0.6171, Accuracy: 7671/10000 (77%)\n",
            "\n",
            "Train Epoch: 2 [0/60000 (0%)]\tLoss: 0.824951\n",
            "Train Epoch: 2 [640/60000 (1%)]\tLoss: 0.938997\n",
            "Train Epoch: 2 [1280/60000 (2%)]\tLoss: 0.735865\n",
            "Train Epoch: 2 [1920/60000 (3%)]\tLoss: 0.613927\n",
            "Train Epoch: 2 [2560/60000 (4%)]\tLoss: 0.710941\n",
            "Train Epoch: 2 [3200/60000 (5%)]\tLoss: 0.709039\n",
            "Train Epoch: 2 [3840/60000 (6%)]\tLoss: 0.743033\n",
            "Train Epoch: 2 [4480/60000 (7%)]\tLoss: 0.737977\n",
            "Train Epoch: 2 [5120/60000 (9%)]\tLoss: 0.819704\n",
            "Train Epoch: 2 [5760/60000 (10%)]\tLoss: 0.841695\n",
            "Train Epoch: 2 [6400/60000 (11%)]\tLoss: 0.784000\n",
            "Train Epoch: 2 [7040/60000 (12%)]\tLoss: 0.739641\n",
            "Train Epoch: 2 [7680/60000 (13%)]\tLoss: 1.001622\n",
            "Train Epoch: 2 [8320/60000 (14%)]\tLoss: 0.885244\n",
            "Train Epoch: 2 [8960/60000 (15%)]\tLoss: 0.633541\n",
            "Train Epoch: 2 [9600/60000 (16%)]\tLoss: 0.843570\n",
            "Train Epoch: 2 [10240/60000 (17%)]\tLoss: 0.860101\n",
            "Train Epoch: 2 [10880/60000 (18%)]\tLoss: 0.649254\n",
            "Train Epoch: 2 [11520/60000 (19%)]\tLoss: 0.688345\n",
            "Train Epoch: 2 [12160/60000 (20%)]\tLoss: 0.658844\n",
            "Train Epoch: 2 [12800/60000 (21%)]\tLoss: 0.768152\n",
            "Train Epoch: 2 [13440/60000 (22%)]\tLoss: 0.767466\n",
            "Train Epoch: 2 [14080/60000 (23%)]\tLoss: 0.905911\n",
            "Train Epoch: 2 [14720/60000 (25%)]\tLoss: 1.218846\n",
            "Train Epoch: 2 [15360/60000 (26%)]\tLoss: 0.704411\n",
            "Train Epoch: 2 [16000/60000 (27%)]\tLoss: 0.764883\n",
            "Train Epoch: 2 [16640/60000 (28%)]\tLoss: 0.812556\n",
            "Train Epoch: 2 [17280/60000 (29%)]\tLoss: 0.722359\n",
            "Train Epoch: 2 [17920/60000 (30%)]\tLoss: 0.789315\n",
            "Train Epoch: 2 [18560/60000 (31%)]\tLoss: 0.697776\n",
            "Train Epoch: 2 [19200/60000 (32%)]\tLoss: 0.792828\n",
            "Train Epoch: 2 [19840/60000 (33%)]\tLoss: 0.711667\n",
            "Train Epoch: 2 [20480/60000 (34%)]\tLoss: 0.706727\n",
            "Train Epoch: 2 [21120/60000 (35%)]\tLoss: 0.895891\n",
            "Train Epoch: 2 [21760/60000 (36%)]\tLoss: 0.791446\n",
            "Train Epoch: 2 [22400/60000 (37%)]\tLoss: 0.845506\n",
            "Train Epoch: 2 [23040/60000 (38%)]\tLoss: 0.833180\n",
            "Train Epoch: 2 [23680/60000 (39%)]\tLoss: 0.988340\n",
            "Train Epoch: 2 [24320/60000 (41%)]\tLoss: 0.708964\n",
            "Train Epoch: 2 [24960/60000 (42%)]\tLoss: 0.641649\n",
            "Train Epoch: 2 [25600/60000 (43%)]\tLoss: 0.786915\n",
            "Train Epoch: 2 [26240/60000 (44%)]\tLoss: 0.676672\n",
            "Train Epoch: 2 [26880/60000 (45%)]\tLoss: 0.858006\n",
            "Train Epoch: 2 [27520/60000 (46%)]\tLoss: 0.846751\n",
            "Train Epoch: 2 [28160/60000 (47%)]\tLoss: 0.871704\n",
            "Train Epoch: 2 [28800/60000 (48%)]\tLoss: 0.678268\n",
            "Train Epoch: 2 [29440/60000 (49%)]\tLoss: 0.785661\n",
            "Train Epoch: 2 [30080/60000 (50%)]\tLoss: 0.672782\n",
            "Train Epoch: 2 [30720/60000 (51%)]\tLoss: 0.753569\n",
            "Train Epoch: 2 [31360/60000 (52%)]\tLoss: 0.690044\n",
            "Train Epoch: 2 [32000/60000 (53%)]\tLoss: 0.655697\n",
            "Train Epoch: 2 [32640/60000 (54%)]\tLoss: 0.485353\n",
            "Train Epoch: 2 [33280/60000 (55%)]\tLoss: 0.645587\n",
            "Train Epoch: 2 [33920/60000 (57%)]\tLoss: 0.764838\n",
            "Train Epoch: 2 [34560/60000 (58%)]\tLoss: 0.826532\n",
            "Train Epoch: 2 [35200/60000 (59%)]\tLoss: 0.684132\n",
            "Train Epoch: 2 [35840/60000 (60%)]\tLoss: 0.771251\n",
            "Train Epoch: 2 [36480/60000 (61%)]\tLoss: 0.660893\n",
            "Train Epoch: 2 [37120/60000 (62%)]\tLoss: 0.906157\n",
            "Train Epoch: 2 [37760/60000 (63%)]\tLoss: 0.785318\n",
            "Train Epoch: 2 [38400/60000 (64%)]\tLoss: 0.740084\n",
            "Train Epoch: 2 [39040/60000 (65%)]\tLoss: 0.706167\n",
            "Train Epoch: 2 [39680/60000 (66%)]\tLoss: 0.842483\n",
            "Train Epoch: 2 [40320/60000 (67%)]\tLoss: 0.751041\n",
            "Train Epoch: 2 [40960/60000 (68%)]\tLoss: 1.303048\n",
            "Train Epoch: 2 [41600/60000 (69%)]\tLoss: 0.627090\n",
            "Train Epoch: 2 [42240/60000 (70%)]\tLoss: 0.636806\n",
            "Train Epoch: 2 [42880/60000 (71%)]\tLoss: 0.842252\n",
            "Train Epoch: 2 [43520/60000 (72%)]\tLoss: 0.922486\n",
            "Train Epoch: 2 [44160/60000 (74%)]\tLoss: 0.737976\n",
            "Train Epoch: 2 [44800/60000 (75%)]\tLoss: 0.694509\n",
            "Train Epoch: 2 [45440/60000 (76%)]\tLoss: 0.702298\n",
            "Train Epoch: 2 [46080/60000 (77%)]\tLoss: 0.619157\n",
            "Train Epoch: 2 [46720/60000 (78%)]\tLoss: 0.555691\n",
            "Train Epoch: 2 [47360/60000 (79%)]\tLoss: 0.693948\n",
            "Train Epoch: 2 [48000/60000 (80%)]\tLoss: 0.427800\n",
            "Train Epoch: 2 [48640/60000 (81%)]\tLoss: 0.701609\n",
            "Train Epoch: 2 [49280/60000 (82%)]\tLoss: 0.855052\n",
            "Train Epoch: 2 [49920/60000 (83%)]\tLoss: 0.871914\n",
            "Train Epoch: 2 [50560/60000 (84%)]\tLoss: 0.982678\n",
            "Train Epoch: 2 [51200/60000 (85%)]\tLoss: 0.613460\n",
            "Train Epoch: 2 [51840/60000 (86%)]\tLoss: 0.691326\n",
            "Train Epoch: 2 [52480/60000 (87%)]\tLoss: 0.778683\n",
            "Train Epoch: 2 [53120/60000 (88%)]\tLoss: 0.740501\n",
            "Train Epoch: 2 [53760/60000 (90%)]\tLoss: 0.732385\n",
            "Train Epoch: 2 [54400/60000 (91%)]\tLoss: 0.738167\n",
            "Train Epoch: 2 [55040/60000 (92%)]\tLoss: 0.723756\n",
            "Train Epoch: 2 [55680/60000 (93%)]\tLoss: 0.585209\n",
            "Train Epoch: 2 [56320/60000 (94%)]\tLoss: 0.735006\n",
            "Train Epoch: 2 [56960/60000 (95%)]\tLoss: 0.682722\n",
            "Train Epoch: 2 [57600/60000 (96%)]\tLoss: 0.766096\n",
            "Train Epoch: 2 [58240/60000 (97%)]\tLoss: 0.707532\n",
            "Train Epoch: 2 [58880/60000 (98%)]\tLoss: 0.752306\n",
            "Train Epoch: 2 [59520/60000 (99%)]\tLoss: 0.679759\n",
            "\n",
            "Test set: Avg. loss: 0.5698, Accuracy: 7814/10000 (78%)\n",
            "\n",
            "Train Epoch: 3 [0/60000 (0%)]\tLoss: 0.859656\n",
            "Train Epoch: 3 [640/60000 (1%)]\tLoss: 0.730561\n",
            "Train Epoch: 3 [1280/60000 (2%)]\tLoss: 0.641234\n",
            "Train Epoch: 3 [1920/60000 (3%)]\tLoss: 0.751154\n",
            "Train Epoch: 3 [2560/60000 (4%)]\tLoss: 0.518673\n",
            "Train Epoch: 3 [3200/60000 (5%)]\tLoss: 0.636477\n",
            "Train Epoch: 3 [3840/60000 (6%)]\tLoss: 0.639243\n",
            "Train Epoch: 3 [4480/60000 (7%)]\tLoss: 0.698152\n",
            "Train Epoch: 3 [5120/60000 (9%)]\tLoss: 0.800730\n",
            "Train Epoch: 3 [5760/60000 (10%)]\tLoss: 0.698021\n",
            "Train Epoch: 3 [6400/60000 (11%)]\tLoss: 0.565433\n",
            "Train Epoch: 3 [7040/60000 (12%)]\tLoss: 0.713562\n",
            "Train Epoch: 3 [7680/60000 (13%)]\tLoss: 0.756801\n",
            "Train Epoch: 3 [8320/60000 (14%)]\tLoss: 0.702508\n",
            "Train Epoch: 3 [8960/60000 (15%)]\tLoss: 0.757351\n",
            "Train Epoch: 3 [9600/60000 (16%)]\tLoss: 0.686561\n",
            "Train Epoch: 3 [10240/60000 (17%)]\tLoss: 0.685068\n",
            "Train Epoch: 3 [10880/60000 (18%)]\tLoss: 0.796766\n",
            "Train Epoch: 3 [11520/60000 (19%)]\tLoss: 0.483328\n",
            "Train Epoch: 3 [12160/60000 (20%)]\tLoss: 0.734023\n",
            "Train Epoch: 3 [12800/60000 (21%)]\tLoss: 0.631275\n",
            "Train Epoch: 3 [13440/60000 (22%)]\tLoss: 0.688929\n",
            "Train Epoch: 3 [14080/60000 (23%)]\tLoss: 0.761329\n",
            "Train Epoch: 3 [14720/60000 (25%)]\tLoss: 0.609000\n",
            "Train Epoch: 3 [15360/60000 (26%)]\tLoss: 1.155077\n",
            "Train Epoch: 3 [16000/60000 (27%)]\tLoss: 0.825516\n",
            "Train Epoch: 3 [16640/60000 (28%)]\tLoss: 0.834193\n",
            "Train Epoch: 3 [17280/60000 (29%)]\tLoss: 0.819599\n",
            "Train Epoch: 3 [17920/60000 (30%)]\tLoss: 0.727790\n",
            "Train Epoch: 3 [18560/60000 (31%)]\tLoss: 0.613426\n",
            "Train Epoch: 3 [19200/60000 (32%)]\tLoss: 0.610978\n",
            "Train Epoch: 3 [19840/60000 (33%)]\tLoss: 0.722637\n",
            "Train Epoch: 3 [20480/60000 (34%)]\tLoss: 0.674067\n",
            "Train Epoch: 3 [21120/60000 (35%)]\tLoss: 0.774171\n",
            "Train Epoch: 3 [21760/60000 (36%)]\tLoss: 0.687872\n",
            "Train Epoch: 3 [22400/60000 (37%)]\tLoss: 0.902906\n",
            "Train Epoch: 3 [23040/60000 (38%)]\tLoss: 0.759003\n",
            "Train Epoch: 3 [23680/60000 (39%)]\tLoss: 0.495357\n",
            "Train Epoch: 3 [24320/60000 (41%)]\tLoss: 0.698449\n",
            "Train Epoch: 3 [24960/60000 (42%)]\tLoss: 0.630901\n",
            "Train Epoch: 3 [25600/60000 (43%)]\tLoss: 0.893521\n",
            "Train Epoch: 3 [26240/60000 (44%)]\tLoss: 0.786359\n",
            "Train Epoch: 3 [26880/60000 (45%)]\tLoss: 0.824472\n",
            "Train Epoch: 3 [27520/60000 (46%)]\tLoss: 0.814522\n",
            "Train Epoch: 3 [28160/60000 (47%)]\tLoss: 0.665170\n",
            "Train Epoch: 3 [28800/60000 (48%)]\tLoss: 0.596684\n",
            "Train Epoch: 3 [29440/60000 (49%)]\tLoss: 0.676823\n",
            "Train Epoch: 3 [30080/60000 (50%)]\tLoss: 0.723945\n",
            "Train Epoch: 3 [30720/60000 (51%)]\tLoss: 0.999853\n",
            "Train Epoch: 3 [31360/60000 (52%)]\tLoss: 0.536727\n",
            "Train Epoch: 3 [32000/60000 (53%)]\tLoss: 0.794275\n",
            "Train Epoch: 3 [32640/60000 (54%)]\tLoss: 0.672716\n",
            "Train Epoch: 3 [33280/60000 (55%)]\tLoss: 0.605136\n",
            "Train Epoch: 3 [33920/60000 (57%)]\tLoss: 0.833104\n",
            "Train Epoch: 3 [34560/60000 (58%)]\tLoss: 0.622225\n",
            "Train Epoch: 3 [35200/60000 (59%)]\tLoss: 0.704373\n",
            "Train Epoch: 3 [35840/60000 (60%)]\tLoss: 0.603976\n",
            "Train Epoch: 3 [36480/60000 (61%)]\tLoss: 0.491892\n",
            "Train Epoch: 3 [37120/60000 (62%)]\tLoss: 0.608565\n",
            "Train Epoch: 3 [37760/60000 (63%)]\tLoss: 0.733038\n",
            "Train Epoch: 3 [38400/60000 (64%)]\tLoss: 0.765130\n",
            "Train Epoch: 3 [39040/60000 (65%)]\tLoss: 0.781023\n",
            "Train Epoch: 3 [39680/60000 (66%)]\tLoss: 0.647510\n",
            "Train Epoch: 3 [40320/60000 (67%)]\tLoss: 0.701531\n",
            "Train Epoch: 3 [40960/60000 (68%)]\tLoss: 0.528764\n",
            "Train Epoch: 3 [41600/60000 (69%)]\tLoss: 0.835461\n",
            "Train Epoch: 3 [42240/60000 (70%)]\tLoss: 0.719206\n",
            "Train Epoch: 3 [42880/60000 (71%)]\tLoss: 0.680551\n",
            "Train Epoch: 3 [43520/60000 (72%)]\tLoss: 0.649684\n",
            "Train Epoch: 3 [44160/60000 (74%)]\tLoss: 0.861917\n",
            "Train Epoch: 3 [44800/60000 (75%)]\tLoss: 0.618875\n",
            "Train Epoch: 3 [45440/60000 (76%)]\tLoss: 0.580997\n",
            "Train Epoch: 3 [46080/60000 (77%)]\tLoss: 0.931882\n",
            "Train Epoch: 3 [46720/60000 (78%)]\tLoss: 0.620191\n",
            "Train Epoch: 3 [47360/60000 (79%)]\tLoss: 0.587785\n",
            "Train Epoch: 3 [48000/60000 (80%)]\tLoss: 0.489373\n",
            "Train Epoch: 3 [48640/60000 (81%)]\tLoss: 0.570887\n",
            "Train Epoch: 3 [49280/60000 (82%)]\tLoss: 0.698004\n",
            "Train Epoch: 3 [49920/60000 (83%)]\tLoss: 0.574675\n",
            "Train Epoch: 3 [50560/60000 (84%)]\tLoss: 0.556710\n",
            "Train Epoch: 3 [51200/60000 (85%)]\tLoss: 0.798751\n",
            "Train Epoch: 3 [51840/60000 (86%)]\tLoss: 0.518162\n",
            "Train Epoch: 3 [52480/60000 (87%)]\tLoss: 0.708652\n",
            "Train Epoch: 3 [53120/60000 (88%)]\tLoss: 0.608264\n",
            "Train Epoch: 3 [53760/60000 (90%)]\tLoss: 0.569685\n",
            "Train Epoch: 3 [54400/60000 (91%)]\tLoss: 0.617147\n",
            "Train Epoch: 3 [55040/60000 (92%)]\tLoss: 0.783899\n",
            "Train Epoch: 3 [55680/60000 (93%)]\tLoss: 0.599424\n",
            "Train Epoch: 3 [56320/60000 (94%)]\tLoss: 0.485694\n",
            "Train Epoch: 3 [56960/60000 (95%)]\tLoss: 0.777591\n",
            "Train Epoch: 3 [57600/60000 (96%)]\tLoss: 0.564086\n",
            "Train Epoch: 3 [58240/60000 (97%)]\tLoss: 0.752639\n",
            "Train Epoch: 3 [58880/60000 (98%)]\tLoss: 0.615808\n",
            "Train Epoch: 3 [59520/60000 (99%)]\tLoss: 0.834440\n",
            "\n",
            "Test set: Avg. loss: 0.5348, Accuracy: 7918/10000 (79%)\n",
            "\n"
          ]
        }
      ]
    },
    {
      "cell_type": "markdown",
      "source": [
        "### Evaluating the Model's Performance"
      ],
      "metadata": {
        "id": "xKMKmMVt1EOC"
      }
    },
    {
      "cell_type": "code",
      "source": [
        "fig = plt.figure()\n",
        "plt.plot(train_counter, train_losses, color='blue')\n",
        "plt.scatter(test_counter, test_losses, color='red')\n",
        "plt.legend(['Train Loss', 'Test Loss'], loc='upper right')\n",
        "plt.xlabel('number of training examples seen')\n",
        "plt.ylabel('negative log likelihood loss')\n",
        "fig"
      ],
      "metadata": {
        "colab": {
          "base_uri": "https://localhost:8080/",
          "height": 645
        },
        "id": "Zt14RHyV1Fv6",
        "outputId": "8af66c86-1f4e-4b70-c660-7f99d3d3d786"
      },
      "execution_count": 43,
      "outputs": [
        {
          "output_type": "error",
          "ename": "ValueError",
          "evalue": "ignored",
          "traceback": [
            "\u001b[0;31m---------------------------------------------------------------------------\u001b[0m",
            "\u001b[0;31mValueError\u001b[0m                                Traceback (most recent call last)",
            "\u001b[0;32m<ipython-input-43-2ddd02f2bec4>\u001b[0m in \u001b[0;36m<module>\u001b[0;34m()\u001b[0m\n\u001b[1;32m      1\u001b[0m \u001b[0mfig\u001b[0m \u001b[0;34m=\u001b[0m \u001b[0mplt\u001b[0m\u001b[0;34m.\u001b[0m\u001b[0mfigure\u001b[0m\u001b[0;34m(\u001b[0m\u001b[0;34m)\u001b[0m\u001b[0;34m\u001b[0m\u001b[0;34m\u001b[0m\u001b[0m\n\u001b[1;32m      2\u001b[0m \u001b[0mplt\u001b[0m\u001b[0;34m.\u001b[0m\u001b[0mplot\u001b[0m\u001b[0;34m(\u001b[0m\u001b[0mtrain_counter\u001b[0m\u001b[0;34m,\u001b[0m \u001b[0mtrain_losses\u001b[0m\u001b[0;34m,\u001b[0m \u001b[0mcolor\u001b[0m\u001b[0;34m=\u001b[0m\u001b[0;34m'blue'\u001b[0m\u001b[0;34m)\u001b[0m\u001b[0;34m\u001b[0m\u001b[0;34m\u001b[0m\u001b[0m\n\u001b[0;32m----> 3\u001b[0;31m \u001b[0mplt\u001b[0m\u001b[0;34m.\u001b[0m\u001b[0mscatter\u001b[0m\u001b[0;34m(\u001b[0m\u001b[0mtest_counter\u001b[0m\u001b[0;34m,\u001b[0m \u001b[0mtest_losses\u001b[0m\u001b[0;34m,\u001b[0m \u001b[0mcolor\u001b[0m\u001b[0;34m=\u001b[0m\u001b[0;34m'red'\u001b[0m\u001b[0;34m)\u001b[0m\u001b[0;34m\u001b[0m\u001b[0;34m\u001b[0m\u001b[0m\n\u001b[0m\u001b[1;32m      4\u001b[0m \u001b[0mplt\u001b[0m\u001b[0;34m.\u001b[0m\u001b[0mlegend\u001b[0m\u001b[0;34m(\u001b[0m\u001b[0;34m[\u001b[0m\u001b[0;34m'Train Loss'\u001b[0m\u001b[0;34m,\u001b[0m \u001b[0;34m'Test Loss'\u001b[0m\u001b[0;34m]\u001b[0m\u001b[0;34m,\u001b[0m \u001b[0mloc\u001b[0m\u001b[0;34m=\u001b[0m\u001b[0;34m'upper right'\u001b[0m\u001b[0;34m)\u001b[0m\u001b[0;34m\u001b[0m\u001b[0;34m\u001b[0m\u001b[0m\n\u001b[1;32m      5\u001b[0m \u001b[0mplt\u001b[0m\u001b[0;34m.\u001b[0m\u001b[0mxlabel\u001b[0m\u001b[0;34m(\u001b[0m\u001b[0;34m'number of training examples seen'\u001b[0m\u001b[0;34m)\u001b[0m\u001b[0;34m\u001b[0m\u001b[0;34m\u001b[0m\u001b[0m\n",
            "\u001b[0;32m/usr/local/lib/python3.7/dist-packages/matplotlib/pyplot.py\u001b[0m in \u001b[0;36mscatter\u001b[0;34m(x, y, s, c, marker, cmap, norm, vmin, vmax, alpha, linewidths, verts, edgecolors, plotnonfinite, data, **kwargs)\u001b[0m\n\u001b[1;32m   2814\u001b[0m         \u001b[0mverts\u001b[0m\u001b[0;34m=\u001b[0m\u001b[0mverts\u001b[0m\u001b[0;34m,\u001b[0m \u001b[0medgecolors\u001b[0m\u001b[0;34m=\u001b[0m\u001b[0medgecolors\u001b[0m\u001b[0;34m,\u001b[0m\u001b[0;34m\u001b[0m\u001b[0;34m\u001b[0m\u001b[0m\n\u001b[1;32m   2815\u001b[0m         plotnonfinite=plotnonfinite, **({\"data\": data} if data is not\n\u001b[0;32m-> 2816\u001b[0;31m         None else {}), **kwargs)\n\u001b[0m\u001b[1;32m   2817\u001b[0m     \u001b[0msci\u001b[0m\u001b[0;34m(\u001b[0m\u001b[0m__ret\u001b[0m\u001b[0;34m)\u001b[0m\u001b[0;34m\u001b[0m\u001b[0;34m\u001b[0m\u001b[0m\n\u001b[1;32m   2818\u001b[0m     \u001b[0;32mreturn\u001b[0m \u001b[0m__ret\u001b[0m\u001b[0;34m\u001b[0m\u001b[0;34m\u001b[0m\u001b[0m\n",
            "\u001b[0;32m/usr/local/lib/python3.7/dist-packages/matplotlib/__init__.py\u001b[0m in \u001b[0;36minner\u001b[0;34m(ax, data, *args, **kwargs)\u001b[0m\n\u001b[1;32m   1563\u001b[0m     \u001b[0;32mdef\u001b[0m \u001b[0minner\u001b[0m\u001b[0;34m(\u001b[0m\u001b[0max\u001b[0m\u001b[0;34m,\u001b[0m \u001b[0;34m*\u001b[0m\u001b[0margs\u001b[0m\u001b[0;34m,\u001b[0m \u001b[0mdata\u001b[0m\u001b[0;34m=\u001b[0m\u001b[0;32mNone\u001b[0m\u001b[0;34m,\u001b[0m \u001b[0;34m**\u001b[0m\u001b[0mkwargs\u001b[0m\u001b[0;34m)\u001b[0m\u001b[0;34m:\u001b[0m\u001b[0;34m\u001b[0m\u001b[0;34m\u001b[0m\u001b[0m\n\u001b[1;32m   1564\u001b[0m         \u001b[0;32mif\u001b[0m \u001b[0mdata\u001b[0m \u001b[0;32mis\u001b[0m \u001b[0;32mNone\u001b[0m\u001b[0;34m:\u001b[0m\u001b[0;34m\u001b[0m\u001b[0;34m\u001b[0m\u001b[0m\n\u001b[0;32m-> 1565\u001b[0;31m             \u001b[0;32mreturn\u001b[0m \u001b[0mfunc\u001b[0m\u001b[0;34m(\u001b[0m\u001b[0max\u001b[0m\u001b[0;34m,\u001b[0m \u001b[0;34m*\u001b[0m\u001b[0mmap\u001b[0m\u001b[0;34m(\u001b[0m\u001b[0msanitize_sequence\u001b[0m\u001b[0;34m,\u001b[0m \u001b[0margs\u001b[0m\u001b[0;34m)\u001b[0m\u001b[0;34m,\u001b[0m \u001b[0;34m**\u001b[0m\u001b[0mkwargs\u001b[0m\u001b[0;34m)\u001b[0m\u001b[0;34m\u001b[0m\u001b[0;34m\u001b[0m\u001b[0m\n\u001b[0m\u001b[1;32m   1566\u001b[0m \u001b[0;34m\u001b[0m\u001b[0m\n\u001b[1;32m   1567\u001b[0m         \u001b[0mbound\u001b[0m \u001b[0;34m=\u001b[0m \u001b[0mnew_sig\u001b[0m\u001b[0;34m.\u001b[0m\u001b[0mbind\u001b[0m\u001b[0;34m(\u001b[0m\u001b[0max\u001b[0m\u001b[0;34m,\u001b[0m \u001b[0;34m*\u001b[0m\u001b[0margs\u001b[0m\u001b[0;34m,\u001b[0m \u001b[0;34m**\u001b[0m\u001b[0mkwargs\u001b[0m\u001b[0;34m)\u001b[0m\u001b[0;34m\u001b[0m\u001b[0;34m\u001b[0m\u001b[0m\n",
            "\u001b[0;32m/usr/local/lib/python3.7/dist-packages/matplotlib/cbook/deprecation.py\u001b[0m in \u001b[0;36mwrapper\u001b[0;34m(*args, **kwargs)\u001b[0m\n\u001b[1;32m    356\u001b[0m                 \u001b[0;34mf\"%(removal)s.  If any parameter follows {name!r}, they \"\u001b[0m\u001b[0;34m\u001b[0m\u001b[0;34m\u001b[0m\u001b[0m\n\u001b[1;32m    357\u001b[0m                 f\"should be pass as keyword, not positionally.\")\n\u001b[0;32m--> 358\u001b[0;31m         \u001b[0;32mreturn\u001b[0m \u001b[0mfunc\u001b[0m\u001b[0;34m(\u001b[0m\u001b[0;34m*\u001b[0m\u001b[0margs\u001b[0m\u001b[0;34m,\u001b[0m \u001b[0;34m**\u001b[0m\u001b[0mkwargs\u001b[0m\u001b[0;34m)\u001b[0m\u001b[0;34m\u001b[0m\u001b[0;34m\u001b[0m\u001b[0m\n\u001b[0m\u001b[1;32m    359\u001b[0m \u001b[0;34m\u001b[0m\u001b[0m\n\u001b[1;32m    360\u001b[0m     \u001b[0;32mreturn\u001b[0m \u001b[0mwrapper\u001b[0m\u001b[0;34m\u001b[0m\u001b[0;34m\u001b[0m\u001b[0m\n",
            "\u001b[0;32m/usr/local/lib/python3.7/dist-packages/matplotlib/axes/_axes.py\u001b[0m in \u001b[0;36mscatter\u001b[0;34m(self, x, y, s, c, marker, cmap, norm, vmin, vmax, alpha, linewidths, verts, edgecolors, plotnonfinite, **kwargs)\u001b[0m\n\u001b[1;32m   4389\u001b[0m         \u001b[0my\u001b[0m \u001b[0;34m=\u001b[0m \u001b[0mnp\u001b[0m\u001b[0;34m.\u001b[0m\u001b[0mma\u001b[0m\u001b[0;34m.\u001b[0m\u001b[0mravel\u001b[0m\u001b[0;34m(\u001b[0m\u001b[0my\u001b[0m\u001b[0;34m)\u001b[0m\u001b[0;34m\u001b[0m\u001b[0;34m\u001b[0m\u001b[0m\n\u001b[1;32m   4390\u001b[0m         \u001b[0;32mif\u001b[0m \u001b[0mx\u001b[0m\u001b[0;34m.\u001b[0m\u001b[0msize\u001b[0m \u001b[0;34m!=\u001b[0m \u001b[0my\u001b[0m\u001b[0;34m.\u001b[0m\u001b[0msize\u001b[0m\u001b[0;34m:\u001b[0m\u001b[0;34m\u001b[0m\u001b[0;34m\u001b[0m\u001b[0m\n\u001b[0;32m-> 4391\u001b[0;31m             \u001b[0;32mraise\u001b[0m \u001b[0mValueError\u001b[0m\u001b[0;34m(\u001b[0m\u001b[0;34m\"x and y must be the same size\"\u001b[0m\u001b[0;34m)\u001b[0m\u001b[0;34m\u001b[0m\u001b[0;34m\u001b[0m\u001b[0m\n\u001b[0m\u001b[1;32m   4392\u001b[0m \u001b[0;34m\u001b[0m\u001b[0m\n\u001b[1;32m   4393\u001b[0m         \u001b[0;32mif\u001b[0m \u001b[0ms\u001b[0m \u001b[0;32mis\u001b[0m \u001b[0;32mNone\u001b[0m\u001b[0;34m:\u001b[0m\u001b[0;34m\u001b[0m\u001b[0;34m\u001b[0m\u001b[0m\n",
            "\u001b[0;31mValueError\u001b[0m: x and y must be the same size"
          ]
        },
        {
          "output_type": "display_data",
          "data": {
            "text/plain": [
              "<Figure size 432x288 with 1 Axes>"
            ],
            "image/png": "[encoded data removed]"
          },
          "metadata": {
            "needs_background": "light"
          }
        }
      ]
    },
    {
      "cell_type": "code",
      "source": [
        "with torch.no_grad():\n",
        "  output = network(example_data)"
      ],
      "metadata": {
        "colab": {
          "base_uri": "https://localhost:8080/"
        },
        "id": "BGECsBSZ10MN",
        "outputId": "fbd714ff-21ab-4ab1-9823-292923fa9e34"
      },
      "execution_count": 44,
      "outputs": [
        {
          "output_type": "stream",
          "name": "stderr",
          "text": [
            "/usr/local/lib/python3.7/dist-packages/ipykernel_launcher.py:17: UserWarning: Implicit dimension choice for log_softmax has been deprecated. Change the call to include dim=X as an argument.\n"
          ]
        }
      ]
    },
    {
      "cell_type": "code",
      "source": [
        "fig = plt.figure()\n",
        "for i in range(6):\n",
        "  plt.subplot(2,3,i+1)\n",
        "  plt.tight_layout()\n",
        "  plt.imshow(example_data[i][0], cmap='gray', interpolation='none')\n",
        "  plt.title(\"Prediction: {}\".format(\n",
        "    output.data.max(1, keepdim=True)[1][i].item()))\n",
        "  plt.xticks([])\n",
        "  plt.yticks([])\n",
        "fig"
      ],
      "metadata": {
        "colab": {
          "base_uri": "https://localhost:8080/",
          "height": 551
        },
        "id": "ZMx9bDkt1-RI",
        "outputId": "fe417f01-8922-44dd-87f8-01a84748a46c"
      },
      "execution_count": 45,
      "outputs": [
        {
          "output_type": "execute_result",
          "data": {
            "text/plain": [
              "<Figure size 432x288 with 6 Axes>"
            ],
            "image/png": "[encoded data removed]"
          },
          "metadata": {},
          "execution_count": 45
        },
        {
          "output_type": "display_data",
          "data": {
            "text/plain": [
              "<Figure size 432x288 with 6 Axes>"
            ],
            "image/png": "[encoded data removed]"
          },
          "metadata": {}
        }
      ]
    },
    {
      "cell_type": "markdown",
      "source": [
        "## Training from Checkpoints"
      ],
      "metadata": {
        "id": "R-N6yF0e2Svc"
      }
    },
    {
      "cell_type": "code",
      "source": [
        "continued_network = Net()\n",
        "continued_optimizer = optim.SGD(network.parameters(), lr=learning_rate,\n",
        "                                momentum=momentum)"
      ],
      "metadata": {
        "id": "lgI7ZVOd2A4x"
      },
      "execution_count": 46,
      "outputs": []
    },
    {
      "cell_type": "code",
      "source": [
        "network_state_dict = torch.load('/model.pth')\n",
        "continued_network.load_state_dict(network_state_dict)\n",
        "\n",
        "optimizer_state_dict = torch.load('/roptimizer.pth')\n",
        "continued_optimizer.load_state_dict(optimizer_state_dict)"
      ],
      "metadata": {
        "id": "Wlvyw8Mb2ZFA"
      },
      "execution_count": 48,
      "outputs": []
    },
    {
      "cell_type": "markdown",
      "source": [
        "Again running a training loop should immediately pick up the training where we left it. To check on that let's simply use the same lists as before to keep track of the loss values. Due to the way we constructed the test counter for the number of training examples seen we manually have to append to it here."
      ],
      "metadata": {
        "id": "98fP7POK3F5B"
      }
    },
    {
      "cell_type": "code",
      "source": [
        "for i in range(4,9):\n",
        "  test_counter.append(i*len(train_loader.dataset))\n",
        "  train(i)\n",
        "  test()"
      ],
      "metadata": {
        "colab": {
          "base_uri": "https://localhost:8080/"
        },
        "id": "fMVAIuym2nyd",
        "outputId": "30f6d0fb-39d7-446b-9061-68fbcc0c7d9f"
      },
      "execution_count": 49,
      "outputs": [
        {
          "output_type": "stream",
          "name": "stderr",
          "text": [
            "/usr/local/lib/python3.7/dist-packages/ipykernel_launcher.py:17: UserWarning: Implicit dimension choice for log_softmax has been deprecated. Change the call to include dim=X as an argument.\n"
          ]
        },
        {
          "output_type": "stream",
          "name": "stdout",
          "text": [
            "Train Epoch: 4 [0/60000 (0%)]\tLoss: 0.491730\n",
            "Train Epoch: 4 [640/60000 (1%)]\tLoss: 0.660734\n",
            "Train Epoch: 4 [1280/60000 (2%)]\tLoss: 0.554329\n",
            "Train Epoch: 4 [1920/60000 (3%)]\tLoss: 0.637817\n",
            "Train Epoch: 4 [2560/60000 (4%)]\tLoss: 0.550775\n",
            "Train Epoch: 4 [3200/60000 (5%)]\tLoss: 0.474983\n",
            "Train Epoch: 4 [3840/60000 (6%)]\tLoss: 0.484970\n",
            "Train Epoch: 4 [4480/60000 (7%)]\tLoss: 0.838969\n",
            "Train Epoch: 4 [5120/60000 (9%)]\tLoss: 0.769691\n",
            "Train Epoch: 4 [5760/60000 (10%)]\tLoss: 0.649975\n",
            "Train Epoch: 4 [6400/60000 (11%)]\tLoss: 0.535424\n",
            "Train Epoch: 4 [7040/60000 (12%)]\tLoss: 0.662785\n",
            "Train Epoch: 4 [7680/60000 (13%)]\tLoss: 0.631885\n",
            "Train Epoch: 4 [8320/60000 (14%)]\tLoss: 0.454401\n",
            "Train Epoch: 4 [8960/60000 (15%)]\tLoss: 0.708929\n",
            "Train Epoch: 4 [9600/60000 (16%)]\tLoss: 0.686025\n",
            "Train Epoch: 4 [10240/60000 (17%)]\tLoss: 0.777279\n",
            "Train Epoch: 4 [10880/60000 (18%)]\tLoss: 0.779945\n",
            "Train Epoch: 4 [11520/60000 (19%)]\tLoss: 0.524507\n",
            "Train Epoch: 4 [12160/60000 (20%)]\tLoss: 0.503018\n",
            "Train Epoch: 4 [12800/60000 (21%)]\tLoss: 0.472592\n",
            "Train Epoch: 4 [13440/60000 (22%)]\tLoss: 0.588047\n",
            "Train Epoch: 4 [14080/60000 (23%)]\tLoss: 0.649436\n",
            "Train Epoch: 4 [14720/60000 (25%)]\tLoss: 0.552465\n",
            "Train Epoch: 4 [15360/60000 (26%)]\tLoss: 0.862402\n",
            "Train Epoch: 4 [16000/60000 (27%)]\tLoss: 0.779240\n",
            "Train Epoch: 4 [16640/60000 (28%)]\tLoss: 0.560025\n",
            "Train Epoch: 4 [17280/60000 (29%)]\tLoss: 0.877888\n",
            "Train Epoch: 4 [17920/60000 (30%)]\tLoss: 0.705042\n",
            "Train Epoch: 4 [18560/60000 (31%)]\tLoss: 0.514142\n",
            "Train Epoch: 4 [19200/60000 (32%)]\tLoss: 0.543042\n",
            "Train Epoch: 4 [19840/60000 (33%)]\tLoss: 0.667451\n",
            "Train Epoch: 4 [20480/60000 (34%)]\tLoss: 0.627115\n",
            "Train Epoch: 4 [21120/60000 (35%)]\tLoss: 0.695813\n",
            "Train Epoch: 4 [21760/60000 (36%)]\tLoss: 0.505504\n",
            "Train Epoch: 4 [22400/60000 (37%)]\tLoss: 0.827276\n",
            "Train Epoch: 4 [23040/60000 (38%)]\tLoss: 0.636781\n",
            "Train Epoch: 4 [23680/60000 (39%)]\tLoss: 0.962131\n",
            "Train Epoch: 4 [24320/60000 (41%)]\tLoss: 0.877410\n",
            "Train Epoch: 4 [24960/60000 (42%)]\tLoss: 0.750100\n",
            "Train Epoch: 4 [25600/60000 (43%)]\tLoss: 0.582179\n",
            "Train Epoch: 4 [26240/60000 (44%)]\tLoss: 0.441458\n",
            "Train Epoch: 4 [26880/60000 (45%)]\tLoss: 0.488374\n",
            "Train Epoch: 4 [27520/60000 (46%)]\tLoss: 0.739549\n",
            "Train Epoch: 4 [28160/60000 (47%)]\tLoss: 0.577949\n",
            "Train Epoch: 4 [28800/60000 (48%)]\tLoss: 0.726013\n",
            "Train Epoch: 4 [29440/60000 (49%)]\tLoss: 0.673645\n",
            "Train Epoch: 4 [30080/60000 (50%)]\tLoss: 0.668210\n",
            "Train Epoch: 4 [30720/60000 (51%)]\tLoss: 0.662379\n",
            "Train Epoch: 4 [31360/60000 (52%)]\tLoss: 0.639537\n",
            "Train Epoch: 4 [32000/60000 (53%)]\tLoss: 0.609283\n",
            "Train Epoch: 4 [32640/60000 (54%)]\tLoss: 0.539499\n",
            "Train Epoch: 4 [33280/60000 (55%)]\tLoss: 0.591089\n",
            "Train Epoch: 4 [33920/60000 (57%)]\tLoss: 0.870661\n",
            "Train Epoch: 4 [34560/60000 (58%)]\tLoss: 0.451360\n",
            "Train Epoch: 4 [35200/60000 (59%)]\tLoss: 0.769617\n",
            "Train Epoch: 4 [35840/60000 (60%)]\tLoss: 0.607544\n",
            "Train Epoch: 4 [36480/60000 (61%)]\tLoss: 0.536070\n",
            "Train Epoch: 4 [37120/60000 (62%)]\tLoss: 0.853983\n",
            "Train Epoch: 4 [37760/60000 (63%)]\tLoss: 0.738610\n",
            "Train Epoch: 4 [38400/60000 (64%)]\tLoss: 0.489049\n",
            "Train Epoch: 4 [39040/60000 (65%)]\tLoss: 0.563156\n",
            "Train Epoch: 4 [39680/60000 (66%)]\tLoss: 0.688317\n",
            "Train Epoch: 4 [40320/60000 (67%)]\tLoss: 0.660126\n",
            "Train Epoch: 4 [40960/60000 (68%)]\tLoss: 0.776625\n",
            "Train Epoch: 4 [41600/60000 (69%)]\tLoss: 0.633615\n",
            "Train Epoch: 4 [42240/60000 (70%)]\tLoss: 0.686058\n",
            "Train Epoch: 4 [42880/60000 (71%)]\tLoss: 0.574252\n",
            "Train Epoch: 4 [43520/60000 (72%)]\tLoss: 0.646084\n",
            "Train Epoch: 4 [44160/60000 (74%)]\tLoss: 0.459309\n",
            "Train Epoch: 4 [44800/60000 (75%)]\tLoss: 0.677354\n",
            "Train Epoch: 4 [45440/60000 (76%)]\tLoss: 0.622434\n",
            "Train Epoch: 4 [46080/60000 (77%)]\tLoss: 0.482729\n",
            "Train Epoch: 4 [46720/60000 (78%)]\tLoss: 0.757051\n",
            "Train Epoch: 4 [47360/60000 (79%)]\tLoss: 0.594496\n",
            "Train Epoch: 4 [48000/60000 (80%)]\tLoss: 0.946475\n",
            "Train Epoch: 4 [48640/60000 (81%)]\tLoss: 0.505527\n",
            "Train Epoch: 4 [49280/60000 (82%)]\tLoss: 0.417205\n",
            "Train Epoch: 4 [49920/60000 (83%)]\tLoss: 0.771527\n",
            "Train Epoch: 4 [50560/60000 (84%)]\tLoss: 0.537408\n",
            "Train Epoch: 4 [51200/60000 (85%)]\tLoss: 0.744748\n",
            "Train Epoch: 4 [51840/60000 (86%)]\tLoss: 0.741990\n",
            "Train Epoch: 4 [52480/60000 (87%)]\tLoss: 0.638394\n",
            "Train Epoch: 4 [53120/60000 (88%)]\tLoss: 0.458321\n",
            "Train Epoch: 4 [53760/60000 (90%)]\tLoss: 0.714018\n",
            "Train Epoch: 4 [54400/60000 (91%)]\tLoss: 0.628114\n",
            "Train Epoch: 4 [55040/60000 (92%)]\tLoss: 0.554943\n",
            "Train Epoch: 4 [55680/60000 (93%)]\tLoss: 0.571394\n",
            "Train Epoch: 4 [56320/60000 (94%)]\tLoss: 0.697130\n",
            "Train Epoch: 4 [56960/60000 (95%)]\tLoss: 0.677471\n",
            "Train Epoch: 4 [57600/60000 (96%)]\tLoss: 0.696098\n",
            "Train Epoch: 4 [58240/60000 (97%)]\tLoss: 0.623884\n",
            "Train Epoch: 4 [58880/60000 (98%)]\tLoss: 0.596365\n",
            "Train Epoch: 4 [59520/60000 (99%)]\tLoss: 1.255017\n"
          ]
        },
        {
          "output_type": "stream",
          "name": "stderr",
          "text": [
            "/usr/local/lib/python3.7/dist-packages/torch/nn/_reduction.py:42: UserWarning: size_average and reduce args will be deprecated, please use reduction='sum' instead.\n",
            "  warnings.warn(warning.format(ret))\n"
          ]
        },
        {
          "output_type": "stream",
          "name": "stdout",
          "text": [
            "\n",
            "Test set: Avg. loss: 0.5121, Accuracy: 8012/10000 (80%)\n",
            "\n",
            "Train Epoch: 5 [0/60000 (0%)]\tLoss: 0.575857\n",
            "Train Epoch: 5 [640/60000 (1%)]\tLoss: 0.604882\n",
            "Train Epoch: 5 [1280/60000 (2%)]\tLoss: 0.705416\n",
            "Train Epoch: 5 [1920/60000 (3%)]\tLoss: 0.597187\n",
            "Train Epoch: 5 [2560/60000 (4%)]\tLoss: 0.524921\n",
            "Train Epoch: 5 [3200/60000 (5%)]\tLoss: 0.714810\n",
            "Train Epoch: 5 [3840/60000 (6%)]\tLoss: 0.743932\n",
            "Train Epoch: 5 [4480/60000 (7%)]\tLoss: 0.639588\n",
            "Train Epoch: 5 [5120/60000 (9%)]\tLoss: 0.799018\n",
            "Train Epoch: 5 [5760/60000 (10%)]\tLoss: 0.735140\n",
            "Train Epoch: 5 [6400/60000 (11%)]\tLoss: 0.629761\n",
            "Train Epoch: 5 [7040/60000 (12%)]\tLoss: 0.544144\n",
            "Train Epoch: 5 [7680/60000 (13%)]\tLoss: 0.560804\n",
            "Train Epoch: 5 [8320/60000 (14%)]\tLoss: 0.708965\n",
            "Train Epoch: 5 [8960/60000 (15%)]\tLoss: 0.595841\n",
            "Train Epoch: 5 [9600/60000 (16%)]\tLoss: 0.767248\n",
            "Train Epoch: 5 [10240/60000 (17%)]\tLoss: 0.478448\n",
            "Train Epoch: 5 [10880/60000 (18%)]\tLoss: 0.698223\n",
            "Train Epoch: 5 [11520/60000 (19%)]\tLoss: 0.552853\n",
            "Train Epoch: 5 [12160/60000 (20%)]\tLoss: 0.732866\n",
            "Train Epoch: 5 [12800/60000 (21%)]\tLoss: 0.553863\n",
            "Train Epoch: 5 [13440/60000 (22%)]\tLoss: 0.440827\n",
            "Train Epoch: 5 [14080/60000 (23%)]\tLoss: 0.554416\n",
            "Train Epoch: 5 [14720/60000 (25%)]\tLoss: 0.479720\n",
            "Train Epoch: 5 [15360/60000 (26%)]\tLoss: 0.656015\n",
            "Train Epoch: 5 [16000/60000 (27%)]\tLoss: 0.580476\n",
            "Train Epoch: 5 [16640/60000 (28%)]\tLoss: 0.400152\n",
            "Train Epoch: 5 [17280/60000 (29%)]\tLoss: 0.595100\n",
            "Train Epoch: 5 [17920/60000 (30%)]\tLoss: 0.686089\n",
            "Train Epoch: 5 [18560/60000 (31%)]\tLoss: 0.605461\n",
            "Train Epoch: 5 [19200/60000 (32%)]\tLoss: 0.731166\n",
            "Train Epoch: 5 [19840/60000 (33%)]\tLoss: 0.819387\n",
            "Train Epoch: 5 [20480/60000 (34%)]\tLoss: 0.592444\n",
            "Train Epoch: 5 [21120/60000 (35%)]\tLoss: 0.490152\n",
            "Train Epoch: 5 [21760/60000 (36%)]\tLoss: 0.681917\n",
            "Train Epoch: 5 [22400/60000 (37%)]\tLoss: 0.704876\n",
            "Train Epoch: 5 [23040/60000 (38%)]\tLoss: 0.595957\n",
            "Train Epoch: 5 [23680/60000 (39%)]\tLoss: 0.572847\n",
            "Train Epoch: 5 [24320/60000 (41%)]\tLoss: 0.632869\n",
            "Train Epoch: 5 [24960/60000 (42%)]\tLoss: 0.492162\n",
            "Train Epoch: 5 [25600/60000 (43%)]\tLoss: 0.756982\n",
            "Train Epoch: 5 [26240/60000 (44%)]\tLoss: 0.671863\n",
            "Train Epoch: 5 [26880/60000 (45%)]\tLoss: 0.596006\n",
            "Train Epoch: 5 [27520/60000 (46%)]\tLoss: 0.602586\n",
            "Train Epoch: 5 [28160/60000 (47%)]\tLoss: 0.503418\n",
            "Train Epoch: 5 [28800/60000 (48%)]\tLoss: 0.744985\n",
            "Train Epoch: 5 [29440/60000 (49%)]\tLoss: 0.728720\n",
            "Train Epoch: 5 [30080/60000 (50%)]\tLoss: 0.731073\n",
            "Train Epoch: 5 [30720/60000 (51%)]\tLoss: 0.565802\n",
            "Train Epoch: 5 [31360/60000 (52%)]\tLoss: 0.670172\n",
            "Train Epoch: 5 [32000/60000 (53%)]\tLoss: 0.539072\n",
            "Train Epoch: 5 [32640/60000 (54%)]\tLoss: 0.530309\n",
            "Train Epoch: 5 [33280/60000 (55%)]\tLoss: 0.506176\n",
            "Train Epoch: 5 [33920/60000 (57%)]\tLoss: 0.622216\n",
            "Train Epoch: 5 [34560/60000 (58%)]\tLoss: 0.611667\n",
            "Train Epoch: 5 [35200/60000 (59%)]\tLoss: 0.803112\n",
            "Train Epoch: 5 [35840/60000 (60%)]\tLoss: 0.646432\n",
            "Train Epoch: 5 [36480/60000 (61%)]\tLoss: 0.624840\n",
            "Train Epoch: 5 [37120/60000 (62%)]\tLoss: 0.640464\n",
            "Train Epoch: 5 [37760/60000 (63%)]\tLoss: 0.669364\n",
            "Train Epoch: 5 [38400/60000 (64%)]\tLoss: 0.966997\n",
            "Train Epoch: 5 [39040/60000 (65%)]\tLoss: 0.679580\n",
            "Train Epoch: 5 [39680/60000 (66%)]\tLoss: 0.744540\n",
            "Train Epoch: 5 [40320/60000 (67%)]\tLoss: 0.603692\n",
            "Train Epoch: 5 [40960/60000 (68%)]\tLoss: 0.599504\n",
            "Train Epoch: 5 [41600/60000 (69%)]\tLoss: 0.511919\n",
            "Train Epoch: 5 [42240/60000 (70%)]\tLoss: 0.554388\n",
            "Train Epoch: 5 [42880/60000 (71%)]\tLoss: 0.705659\n",
            "Train Epoch: 5 [43520/60000 (72%)]\tLoss: 0.734281\n",
            "Train Epoch: 5 [44160/60000 (74%)]\tLoss: 0.582586\n",
            "Train Epoch: 5 [44800/60000 (75%)]\tLoss: 0.843783\n",
            "Train Epoch: 5 [45440/60000 (76%)]\tLoss: 0.872570\n",
            "Train Epoch: 5 [46080/60000 (77%)]\tLoss: 0.640226\n",
            "Train Epoch: 5 [46720/60000 (78%)]\tLoss: 0.652495\n",
            "Train Epoch: 5 [47360/60000 (79%)]\tLoss: 0.648871\n",
            "Train Epoch: 5 [48000/60000 (80%)]\tLoss: 0.619951\n",
            "Train Epoch: 5 [48640/60000 (81%)]\tLoss: 0.702420\n",
            "Train Epoch: 5 [49280/60000 (82%)]\tLoss: 0.681122\n",
            "Train Epoch: 5 [49920/60000 (83%)]\tLoss: 0.621617\n",
            "Train Epoch: 5 [50560/60000 (84%)]\tLoss: 0.545205\n",
            "Train Epoch: 5 [51200/60000 (85%)]\tLoss: 0.688432\n",
            "Train Epoch: 5 [51840/60000 (86%)]\tLoss: 0.514689\n",
            "Train Epoch: 5 [52480/60000 (87%)]\tLoss: 0.932065\n",
            "Train Epoch: 5 [53120/60000 (88%)]\tLoss: 0.518229\n",
            "Train Epoch: 5 [53760/60000 (90%)]\tLoss: 0.714384\n",
            "Train Epoch: 5 [54400/60000 (91%)]\tLoss: 0.714877\n",
            "Train Epoch: 5 [55040/60000 (92%)]\tLoss: 0.668683\n",
            "Train Epoch: 5 [55680/60000 (93%)]\tLoss: 0.527887\n",
            "Train Epoch: 5 [56320/60000 (94%)]\tLoss: 0.748673\n",
            "Train Epoch: 5 [56960/60000 (95%)]\tLoss: 0.726334\n",
            "Train Epoch: 5 [57600/60000 (96%)]\tLoss: 0.698659\n",
            "Train Epoch: 5 [58240/60000 (97%)]\tLoss: 0.422910\n",
            "Train Epoch: 5 [58880/60000 (98%)]\tLoss: 0.556244\n",
            "Train Epoch: 5 [59520/60000 (99%)]\tLoss: 0.594030\n",
            "\n",
            "Test set: Avg. loss: 0.4776, Accuracy: 8228/10000 (82%)\n",
            "\n",
            "Train Epoch: 6 [0/60000 (0%)]\tLoss: 0.335720\n",
            "Train Epoch: 6 [640/60000 (1%)]\tLoss: 0.661933\n",
            "Train Epoch: 6 [1280/60000 (2%)]\tLoss: 0.469356\n",
            "Train Epoch: 6 [1920/60000 (3%)]\tLoss: 0.645538\n",
            "Train Epoch: 6 [2560/60000 (4%)]\tLoss: 0.391173\n",
            "Train Epoch: 6 [3200/60000 (5%)]\tLoss: 0.477367\n",
            "Train Epoch: 6 [3840/60000 (6%)]\tLoss: 0.639647\n",
            "Train Epoch: 6 [4480/60000 (7%)]\tLoss: 0.468146\n",
            "Train Epoch: 6 [5120/60000 (9%)]\tLoss: 0.722689\n",
            "Train Epoch: 6 [5760/60000 (10%)]\tLoss: 0.527910\n",
            "Train Epoch: 6 [6400/60000 (11%)]\tLoss: 0.546827\n",
            "Train Epoch: 6 [7040/60000 (12%)]\tLoss: 0.507324\n",
            "Train Epoch: 6 [7680/60000 (13%)]\tLoss: 0.538492\n",
            "Train Epoch: 6 [8320/60000 (14%)]\tLoss: 0.444497\n",
            "Train Epoch: 6 [8960/60000 (15%)]\tLoss: 0.744719\n",
            "Train Epoch: 6 [9600/60000 (16%)]\tLoss: 0.653841\n",
            "Train Epoch: 6 [10240/60000 (17%)]\tLoss: 0.526874\n",
            "Train Epoch: 6 [10880/60000 (18%)]\tLoss: 0.683864\n",
            "Train Epoch: 6 [11520/60000 (19%)]\tLoss: 0.624939\n",
            "Train Epoch: 6 [12160/60000 (20%)]\tLoss: 0.749245\n",
            "Train Epoch: 6 [12800/60000 (21%)]\tLoss: 0.823188\n",
            "Train Epoch: 6 [13440/60000 (22%)]\tLoss: 0.766693\n",
            "Train Epoch: 6 [14080/60000 (23%)]\tLoss: 0.757030\n",
            "Train Epoch: 6 [14720/60000 (25%)]\tLoss: 0.823953\n",
            "Train Epoch: 6 [15360/60000 (26%)]\tLoss: 0.596684\n",
            "Train Epoch: 6 [16000/60000 (27%)]\tLoss: 0.678255\n",
            "Train Epoch: 6 [16640/60000 (28%)]\tLoss: 0.861817\n",
            "Train Epoch: 6 [17280/60000 (29%)]\tLoss: 0.586212\n",
            "Train Epoch: 6 [17920/60000 (30%)]\tLoss: 0.353549\n",
            "Train Epoch: 6 [18560/60000 (31%)]\tLoss: 0.650953\n",
            "Train Epoch: 6 [19200/60000 (32%)]\tLoss: 0.634900\n",
            "Train Epoch: 6 [19840/60000 (33%)]\tLoss: 0.576654\n",
            "Train Epoch: 6 [20480/60000 (34%)]\tLoss: 0.386814\n",
            "Train Epoch: 6 [21120/60000 (35%)]\tLoss: 0.643086\n",
            "Train Epoch: 6 [21760/60000 (36%)]\tLoss: 0.512035\n",
            "Train Epoch: 6 [22400/60000 (37%)]\tLoss: 0.566806\n",
            "Train Epoch: 6 [23040/60000 (38%)]\tLoss: 0.521305\n",
            "Train Epoch: 6 [23680/60000 (39%)]\tLoss: 0.575219\n",
            "Train Epoch: 6 [24320/60000 (41%)]\tLoss: 0.554324\n",
            "Train Epoch: 6 [24960/60000 (42%)]\tLoss: 0.640092\n",
            "Train Epoch: 6 [25600/60000 (43%)]\tLoss: 0.456697\n",
            "Train Epoch: 6 [26240/60000 (44%)]\tLoss: 0.506795\n",
            "Train Epoch: 6 [26880/60000 (45%)]\tLoss: 0.489678\n",
            "Train Epoch: 6 [27520/60000 (46%)]\tLoss: 0.507306\n",
            "Train Epoch: 6 [28160/60000 (47%)]\tLoss: 0.743113\n",
            "Train Epoch: 6 [28800/60000 (48%)]\tLoss: 0.604360\n",
            "Train Epoch: 6 [29440/60000 (49%)]\tLoss: 0.737974\n",
            "Train Epoch: 6 [30080/60000 (50%)]\tLoss: 0.625259\n",
            "Train Epoch: 6 [30720/60000 (51%)]\tLoss: 0.746025\n",
            "Train Epoch: 6 [31360/60000 (52%)]\tLoss: 0.616046\n",
            "Train Epoch: 6 [32000/60000 (53%)]\tLoss: 0.457101\n",
            "Train Epoch: 6 [32640/60000 (54%)]\tLoss: 0.669545\n",
            "Train Epoch: 6 [33280/60000 (55%)]\tLoss: 0.536564\n",
            "Train Epoch: 6 [33920/60000 (57%)]\tLoss: 0.464670\n",
            "Train Epoch: 6 [34560/60000 (58%)]\tLoss: 0.526622\n",
            "Train Epoch: 6 [35200/60000 (59%)]\tLoss: 0.564658\n",
            "Train Epoch: 6 [35840/60000 (60%)]\tLoss: 0.520808\n",
            "Train Epoch: 6 [36480/60000 (61%)]\tLoss: 0.532188\n",
            "Train Epoch: 6 [37120/60000 (62%)]\tLoss: 0.578585\n",
            "Train Epoch: 6 [37760/60000 (63%)]\tLoss: 0.468251\n",
            "Train Epoch: 6 [38400/60000 (64%)]\tLoss: 0.604246\n",
            "Train Epoch: 6 [39040/60000 (65%)]\tLoss: 0.584518\n",
            "Train Epoch: 6 [39680/60000 (66%)]\tLoss: 0.454828\n",
            "Train Epoch: 6 [40320/60000 (67%)]\tLoss: 0.541012\n",
            "Train Epoch: 6 [40960/60000 (68%)]\tLoss: 0.771121\n",
            "Train Epoch: 6 [41600/60000 (69%)]\tLoss: 0.828637\n",
            "Train Epoch: 6 [42240/60000 (70%)]\tLoss: 0.713823\n",
            "Train Epoch: 6 [42880/60000 (71%)]\tLoss: 0.628255\n",
            "Train Epoch: 6 [43520/60000 (72%)]\tLoss: 0.557868\n",
            "Train Epoch: 6 [44160/60000 (74%)]\tLoss: 0.515905\n",
            "Train Epoch: 6 [44800/60000 (75%)]\tLoss: 0.627667\n",
            "Train Epoch: 6 [45440/60000 (76%)]\tLoss: 0.698281\n",
            "Train Epoch: 6 [46080/60000 (77%)]\tLoss: 0.583839\n",
            "Train Epoch: 6 [46720/60000 (78%)]\tLoss: 0.613393\n",
            "Train Epoch: 6 [47360/60000 (79%)]\tLoss: 0.655536\n",
            "Train Epoch: 6 [48000/60000 (80%)]\tLoss: 0.370067\n",
            "Train Epoch: 6 [48640/60000 (81%)]\tLoss: 0.808639\n",
            "Train Epoch: 6 [49280/60000 (82%)]\tLoss: 0.755877\n",
            "Train Epoch: 6 [49920/60000 (83%)]\tLoss: 0.397910\n",
            "Train Epoch: 6 [50560/60000 (84%)]\tLoss: 0.622651\n",
            "Train Epoch: 6 [51200/60000 (85%)]\tLoss: 0.769204\n",
            "Train Epoch: 6 [51840/60000 (86%)]\tLoss: 0.413446\n",
            "Train Epoch: 6 [52480/60000 (87%)]\tLoss: 0.651941\n",
            "Train Epoch: 6 [53120/60000 (88%)]\tLoss: 0.513824\n",
            "Train Epoch: 6 [53760/60000 (90%)]\tLoss: 0.551306\n",
            "Train Epoch: 6 [54400/60000 (91%)]\tLoss: 0.554058\n",
            "Train Epoch: 6 [55040/60000 (92%)]\tLoss: 0.697714\n",
            "Train Epoch: 6 [55680/60000 (93%)]\tLoss: 0.558129\n",
            "Train Epoch: 6 [56320/60000 (94%)]\tLoss: 0.774378\n",
            "Train Epoch: 6 [56960/60000 (95%)]\tLoss: 0.790127\n",
            "Train Epoch: 6 [57600/60000 (96%)]\tLoss: 0.623707\n",
            "Train Epoch: 6 [58240/60000 (97%)]\tLoss: 0.615239\n",
            "Train Epoch: 6 [58880/60000 (98%)]\tLoss: 0.572538\n",
            "Train Epoch: 6 [59520/60000 (99%)]\tLoss: 0.462182\n",
            "\n",
            "Test set: Avg. loss: 0.4629, Accuracy: 8271/10000 (83%)\n",
            "\n",
            "Train Epoch: 7 [0/60000 (0%)]\tLoss: 0.535064\n",
            "Train Epoch: 7 [640/60000 (1%)]\tLoss: 0.804647\n",
            "Train Epoch: 7 [1280/60000 (2%)]\tLoss: 0.758201\n",
            "Train Epoch: 7 [1920/60000 (3%)]\tLoss: 0.510500\n",
            "Train Epoch: 7 [2560/60000 (4%)]\tLoss: 0.557284\n",
            "Train Epoch: 7 [3200/60000 (5%)]\tLoss: 0.498941\n",
            "Train Epoch: 7 [3840/60000 (6%)]\tLoss: 0.378360\n",
            "Train Epoch: 7 [4480/60000 (7%)]\tLoss: 0.617338\n",
            "Train Epoch: 7 [5120/60000 (9%)]\tLoss: 0.461753\n",
            "Train Epoch: 7 [5760/60000 (10%)]\tLoss: 0.588728\n",
            "Train Epoch: 7 [6400/60000 (11%)]\tLoss: 0.504079\n",
            "Train Epoch: 7 [7040/60000 (12%)]\tLoss: 0.722615\n",
            "Train Epoch: 7 [7680/60000 (13%)]\tLoss: 0.533316\n",
            "Train Epoch: 7 [8320/60000 (14%)]\tLoss: 0.406337\n",
            "Train Epoch: 7 [8960/60000 (15%)]\tLoss: 0.506468\n",
            "Train Epoch: 7 [9600/60000 (16%)]\tLoss: 0.443760\n",
            "Train Epoch: 7 [10240/60000 (17%)]\tLoss: 0.572636\n",
            "Train Epoch: 7 [10880/60000 (18%)]\tLoss: 0.400225\n",
            "Train Epoch: 7 [11520/60000 (19%)]\tLoss: 0.544259\n",
            "Train Epoch: 7 [12160/60000 (20%)]\tLoss: 0.452965\n",
            "Train Epoch: 7 [12800/60000 (21%)]\tLoss: 0.447221\n",
            "Train Epoch: 7 [13440/60000 (22%)]\tLoss: 0.598319\n",
            "Train Epoch: 7 [14080/60000 (23%)]\tLoss: 0.711695\n",
            "Train Epoch: 7 [14720/60000 (25%)]\tLoss: 0.496805\n",
            "Train Epoch: 7 [15360/60000 (26%)]\tLoss: 0.565100\n",
            "Train Epoch: 7 [16000/60000 (27%)]\tLoss: 0.628478\n",
            "Train Epoch: 7 [16640/60000 (28%)]\tLoss: 0.620782\n",
            "Train Epoch: 7 [17280/60000 (29%)]\tLoss: 0.608478\n",
            "Train Epoch: 7 [17920/60000 (30%)]\tLoss: 0.597843\n",
            "Train Epoch: 7 [18560/60000 (31%)]\tLoss: 0.704547\n",
            "Train Epoch: 7 [19200/60000 (32%)]\tLoss: 0.719290\n",
            "Train Epoch: 7 [19840/60000 (33%)]\tLoss: 0.448363\n",
            "Train Epoch: 7 [20480/60000 (34%)]\tLoss: 0.616207\n",
            "Train Epoch: 7 [21120/60000 (35%)]\tLoss: 0.785652\n",
            "Train Epoch: 7 [21760/60000 (36%)]\tLoss: 0.675998\n",
            "Train Epoch: 7 [22400/60000 (37%)]\tLoss: 0.465496\n",
            "Train Epoch: 7 [23040/60000 (38%)]\tLoss: 0.473625\n",
            "Train Epoch: 7 [23680/60000 (39%)]\tLoss: 0.493161\n",
            "Train Epoch: 7 [24320/60000 (41%)]\tLoss: 0.481246\n",
            "Train Epoch: 7 [24960/60000 (42%)]\tLoss: 0.412576\n",
            "Train Epoch: 7 [25600/60000 (43%)]\tLoss: 0.396874\n",
            "Train Epoch: 7 [26240/60000 (44%)]\tLoss: 0.619045\n",
            "Train Epoch: 7 [26880/60000 (45%)]\tLoss: 0.806119\n",
            "Train Epoch: 7 [27520/60000 (46%)]\tLoss: 0.507871\n",
            "Train Epoch: 7 [28160/60000 (47%)]\tLoss: 0.437187\n",
            "Train Epoch: 7 [28800/60000 (48%)]\tLoss: 0.573473\n",
            "Train Epoch: 7 [29440/60000 (49%)]\tLoss: 0.663752\n",
            "Train Epoch: 7 [30080/60000 (50%)]\tLoss: 0.554557\n",
            "Train Epoch: 7 [30720/60000 (51%)]\tLoss: 0.808472\n",
            "Train Epoch: 7 [31360/60000 (52%)]\tLoss: 0.554295\n",
            "Train Epoch: 7 [32000/60000 (53%)]\tLoss: 0.588423\n",
            "Train Epoch: 7 [32640/60000 (54%)]\tLoss: 0.764073\n",
            "Train Epoch: 7 [33280/60000 (55%)]\tLoss: 0.569999\n",
            "Train Epoch: 7 [33920/60000 (57%)]\tLoss: 0.491096\n",
            "Train Epoch: 7 [34560/60000 (58%)]\tLoss: 0.603391\n",
            "Train Epoch: 7 [35200/60000 (59%)]\tLoss: 0.582224\n",
            "Train Epoch: 7 [35840/60000 (60%)]\tLoss: 0.411952\n",
            "Train Epoch: 7 [36480/60000 (61%)]\tLoss: 0.583371\n",
            "Train Epoch: 7 [37120/60000 (62%)]\tLoss: 0.572737\n",
            "Train Epoch: 7 [37760/60000 (63%)]\tLoss: 0.699165\n",
            "Train Epoch: 7 [38400/60000 (64%)]\tLoss: 0.864557\n",
            "Train Epoch: 7 [39040/60000 (65%)]\tLoss: 0.479887\n",
            "Train Epoch: 7 [39680/60000 (66%)]\tLoss: 0.433289\n",
            "Train Epoch: 7 [40320/60000 (67%)]\tLoss: 0.803460\n",
            "Train Epoch: 7 [40960/60000 (68%)]\tLoss: 0.529201\n",
            "Train Epoch: 7 [41600/60000 (69%)]\tLoss: 0.525721\n",
            "Train Epoch: 7 [42240/60000 (70%)]\tLoss: 0.621038\n",
            "Train Epoch: 7 [42880/60000 (71%)]\tLoss: 0.453042\n",
            "Train Epoch: 7 [43520/60000 (72%)]\tLoss: 0.619905\n",
            "Train Epoch: 7 [44160/60000 (74%)]\tLoss: 0.471010\n",
            "Train Epoch: 7 [44800/60000 (75%)]\tLoss: 0.677559\n",
            "Train Epoch: 7 [45440/60000 (76%)]\tLoss: 0.692928\n",
            "Train Epoch: 7 [46080/60000 (77%)]\tLoss: 0.577767\n",
            "Train Epoch: 7 [46720/60000 (78%)]\tLoss: 0.650792\n",
            "Train Epoch: 7 [47360/60000 (79%)]\tLoss: 0.832667\n",
            "Train Epoch: 7 [48000/60000 (80%)]\tLoss: 0.687861\n",
            "Train Epoch: 7 [48640/60000 (81%)]\tLoss: 0.658696\n",
            "Train Epoch: 7 [49280/60000 (82%)]\tLoss: 0.864115\n",
            "Train Epoch: 7 [49920/60000 (83%)]\tLoss: 0.590325\n",
            "Train Epoch: 7 [50560/60000 (84%)]\tLoss: 0.566447\n",
            "Train Epoch: 7 [51200/60000 (85%)]\tLoss: 0.564568\n",
            "Train Epoch: 7 [51840/60000 (86%)]\tLoss: 0.457823\n",
            "Train Epoch: 7 [52480/60000 (87%)]\tLoss: 0.681397\n",
            "Train Epoch: 7 [53120/60000 (88%)]\tLoss: 0.606159\n",
            "Train Epoch: 7 [53760/60000 (90%)]\tLoss: 0.619232\n",
            "Train Epoch: 7 [54400/60000 (91%)]\tLoss: 0.359212\n",
            "Train Epoch: 7 [55040/60000 (92%)]\tLoss: 0.490124\n",
            "Train Epoch: 7 [55680/60000 (93%)]\tLoss: 0.533113\n",
            "Train Epoch: 7 [56320/60000 (94%)]\tLoss: 0.644742\n",
            "Train Epoch: 7 [56960/60000 (95%)]\tLoss: 0.682267\n",
            "Train Epoch: 7 [57600/60000 (96%)]\tLoss: 0.615358\n",
            "Train Epoch: 7 [58240/60000 (97%)]\tLoss: 0.418566\n",
            "Train Epoch: 7 [58880/60000 (98%)]\tLoss: 0.531261\n",
            "Train Epoch: 7 [59520/60000 (99%)]\tLoss: 0.483302\n",
            "\n",
            "Test set: Avg. loss: 0.4480, Accuracy: 8388/10000 (84%)\n",
            "\n",
            "Train Epoch: 8 [0/60000 (0%)]\tLoss: 0.443711\n",
            "Train Epoch: 8 [640/60000 (1%)]\tLoss: 0.598450\n",
            "Train Epoch: 8 [1280/60000 (2%)]\tLoss: 0.562087\n",
            "Train Epoch: 8 [1920/60000 (3%)]\tLoss: 0.780455\n",
            "Train Epoch: 8 [2560/60000 (4%)]\tLoss: 0.503996\n",
            "Train Epoch: 8 [3200/60000 (5%)]\tLoss: 0.655772\n",
            "Train Epoch: 8 [3840/60000 (6%)]\tLoss: 0.510117\n",
            "Train Epoch: 8 [4480/60000 (7%)]\tLoss: 0.639029\n",
            "Train Epoch: 8 [5120/60000 (9%)]\tLoss: 0.419850\n",
            "Train Epoch: 8 [5760/60000 (10%)]\tLoss: 0.775790\n",
            "Train Epoch: 8 [6400/60000 (11%)]\tLoss: 0.680885\n",
            "Train Epoch: 8 [7040/60000 (12%)]\tLoss: 0.712026\n",
            "Train Epoch: 8 [7680/60000 (13%)]\tLoss: 0.433831\n",
            "Train Epoch: 8 [8320/60000 (14%)]\tLoss: 0.745517\n",
            "Train Epoch: 8 [8960/60000 (15%)]\tLoss: 0.522845\n",
            "Train Epoch: 8 [9600/60000 (16%)]\tLoss: 0.516683\n",
            "Train Epoch: 8 [10240/60000 (17%)]\tLoss: 0.804337\n",
            "Train Epoch: 8 [10880/60000 (18%)]\tLoss: 0.408069\n",
            "Train Epoch: 8 [11520/60000 (19%)]\tLoss: 0.731105\n",
            "Train Epoch: 8 [12160/60000 (20%)]\tLoss: 0.645325\n",
            "Train Epoch: 8 [12800/60000 (21%)]\tLoss: 0.682402\n",
            "Train Epoch: 8 [13440/60000 (22%)]\tLoss: 0.578387\n",
            "Train Epoch: 8 [14080/60000 (23%)]\tLoss: 0.595851\n",
            "Train Epoch: 8 [14720/60000 (25%)]\tLoss: 0.636738\n",
            "Train Epoch: 8 [15360/60000 (26%)]\tLoss: 0.520008\n",
            "Train Epoch: 8 [16000/60000 (27%)]\tLoss: 0.940223\n",
            "Train Epoch: 8 [16640/60000 (28%)]\tLoss: 0.476272\n",
            "Train Epoch: 8 [17280/60000 (29%)]\tLoss: 0.828392\n",
            "Train Epoch: 8 [17920/60000 (30%)]\tLoss: 0.525737\n",
            "Train Epoch: 8 [18560/60000 (31%)]\tLoss: 0.458142\n",
            "Train Epoch: 8 [19200/60000 (32%)]\tLoss: 0.405957\n",
            "Train Epoch: 8 [19840/60000 (33%)]\tLoss: 0.549849\n",
            "Train Epoch: 8 [20480/60000 (34%)]\tLoss: 0.742636\n",
            "Train Epoch: 8 [21120/60000 (35%)]\tLoss: 0.429841\n",
            "Train Epoch: 8 [21760/60000 (36%)]\tLoss: 0.473844\n",
            "Train Epoch: 8 [22400/60000 (37%)]\tLoss: 0.503216\n",
            "Train Epoch: 8 [23040/60000 (38%)]\tLoss: 0.515686\n",
            "Train Epoch: 8 [23680/60000 (39%)]\tLoss: 0.537186\n",
            "Train Epoch: 8 [24320/60000 (41%)]\tLoss: 0.615964\n",
            "Train Epoch: 8 [24960/60000 (42%)]\tLoss: 0.833830\n",
            "Train Epoch: 8 [25600/60000 (43%)]\tLoss: 0.619906\n",
            "Train Epoch: 8 [26240/60000 (44%)]\tLoss: 0.432248\n",
            "Train Epoch: 8 [26880/60000 (45%)]\tLoss: 0.373138\n",
            "Train Epoch: 8 [27520/60000 (46%)]\tLoss: 0.353514\n",
            "Train Epoch: 8 [28160/60000 (47%)]\tLoss: 0.574421\n",
            "Train Epoch: 8 [28800/60000 (48%)]\tLoss: 0.745831\n",
            "Train Epoch: 8 [29440/60000 (49%)]\tLoss: 0.594782\n",
            "Train Epoch: 8 [30080/60000 (50%)]\tLoss: 0.595878\n",
            "Train Epoch: 8 [30720/60000 (51%)]\tLoss: 0.523798\n",
            "Train Epoch: 8 [31360/60000 (52%)]\tLoss: 0.840377\n",
            "Train Epoch: 8 [32000/60000 (53%)]\tLoss: 0.666910\n",
            "Train Epoch: 8 [32640/60000 (54%)]\tLoss: 0.483329\n",
            "Train Epoch: 8 [33280/60000 (55%)]\tLoss: 0.472888\n",
            "Train Epoch: 8 [33920/60000 (57%)]\tLoss: 0.615707\n",
            "Train Epoch: 8 [34560/60000 (58%)]\tLoss: 0.602463\n",
            "Train Epoch: 8 [35200/60000 (59%)]\tLoss: 0.479030\n",
            "Train Epoch: 8 [35840/60000 (60%)]\tLoss: 0.450415\n",
            "Train Epoch: 8 [36480/60000 (61%)]\tLoss: 0.771356\n",
            "Train Epoch: 8 [37120/60000 (62%)]\tLoss: 0.467670\n",
            "Train Epoch: 8 [37760/60000 (63%)]\tLoss: 0.626752\n",
            "Train Epoch: 8 [38400/60000 (64%)]\tLoss: 0.495205\n",
            "Train Epoch: 8 [39040/60000 (65%)]\tLoss: 0.630166\n",
            "Train Epoch: 8 [39680/60000 (66%)]\tLoss: 0.528523\n",
            "Train Epoch: 8 [40320/60000 (67%)]\tLoss: 0.414319\n",
            "Train Epoch: 8 [40960/60000 (68%)]\tLoss: 0.651741\n",
            "Train Epoch: 8 [41600/60000 (69%)]\tLoss: 0.526636\n",
            "Train Epoch: 8 [42240/60000 (70%)]\tLoss: 0.505606\n",
            "Train Epoch: 8 [42880/60000 (71%)]\tLoss: 0.485628\n",
            "Train Epoch: 8 [43520/60000 (72%)]\tLoss: 0.559592\n",
            "Train Epoch: 8 [44160/60000 (74%)]\tLoss: 0.435507\n",
            "Train Epoch: 8 [44800/60000 (75%)]\tLoss: 0.686867\n",
            "Train Epoch: 8 [45440/60000 (76%)]\tLoss: 0.511458\n",
            "Train Epoch: 8 [46080/60000 (77%)]\tLoss: 0.552909\n",
            "Train Epoch: 8 [46720/60000 (78%)]\tLoss: 0.518060\n",
            "Train Epoch: 8 [47360/60000 (79%)]\tLoss: 0.508513\n",
            "Train Epoch: 8 [48000/60000 (80%)]\tLoss: 0.553625\n",
            "Train Epoch: 8 [48640/60000 (81%)]\tLoss: 0.390412\n",
            "Train Epoch: 8 [49280/60000 (82%)]\tLoss: 0.511959\n",
            "Train Epoch: 8 [49920/60000 (83%)]\tLoss: 0.604296\n",
            "Train Epoch: 8 [50560/60000 (84%)]\tLoss: 0.618856\n",
            "Train Epoch: 8 [51200/60000 (85%)]\tLoss: 0.504258\n",
            "Train Epoch: 8 [51840/60000 (86%)]\tLoss: 0.470750\n",
            "Train Epoch: 8 [52480/60000 (87%)]\tLoss: 0.475465\n",
            "Train Epoch: 8 [53120/60000 (88%)]\tLoss: 0.641290\n",
            "Train Epoch: 8 [53760/60000 (90%)]\tLoss: 0.638278\n",
            "Train Epoch: 8 [54400/60000 (91%)]\tLoss: 0.503209\n",
            "Train Epoch: 8 [55040/60000 (92%)]\tLoss: 0.429352\n",
            "Train Epoch: 8 [55680/60000 (93%)]\tLoss: 0.657607\n",
            "Train Epoch: 8 [56320/60000 (94%)]\tLoss: 0.691498\n",
            "Train Epoch: 8 [56960/60000 (95%)]\tLoss: 0.550131\n",
            "Train Epoch: 8 [57600/60000 (96%)]\tLoss: 0.848218\n",
            "Train Epoch: 8 [58240/60000 (97%)]\tLoss: 0.433528\n",
            "Train Epoch: 8 [58880/60000 (98%)]\tLoss: 0.406164\n",
            "Train Epoch: 8 [59520/60000 (99%)]\tLoss: 0.434888\n",
            "\n",
            "Test set: Avg. loss: 0.4255, Accuracy: 8453/10000 (85%)\n",
            "\n"
          ]
        }
      ]
    },
    {
      "cell_type": "code",
      "source": [
        "fig = plt.figure()\n",
        "plt.plot(train_counter, train_losses, color='blue')\n",
        "plt.scatter(test_counter, test_losses, color='red')\n",
        "plt.legend(['Train Loss', 'Test Loss'], loc='upper right')\n",
        "plt.xlabel('number of training examples seen')\n",
        "plt.ylabel('negative log likelihood loss')\n",
        "fig"
      ],
      "metadata": {
        "colab": {
          "base_uri": "https://localhost:8080/",
          "height": 645
        },
        "id": "qROkrmQ-23xj",
        "outputId": "eccc6abc-0aee-4160-b1ef-b68625852cc7"
      },
      "execution_count": 50,
      "outputs": [
        {
          "output_type": "error",
          "ename": "ValueError",
          "evalue": "ignored",
          "traceback": [
            "\u001b[0;31m---------------------------------------------------------------------------\u001b[0m",
            "\u001b[0;31mValueError\u001b[0m                                Traceback (most recent call last)",
            "\u001b[0;32m<ipython-input-50-2ddd02f2bec4>\u001b[0m in \u001b[0;36m<module>\u001b[0;34m()\u001b[0m\n\u001b[1;32m      1\u001b[0m \u001b[0mfig\u001b[0m \u001b[0;34m=\u001b[0m \u001b[0mplt\u001b[0m\u001b[0;34m.\u001b[0m\u001b[0mfigure\u001b[0m\u001b[0;34m(\u001b[0m\u001b[0;34m)\u001b[0m\u001b[0;34m\u001b[0m\u001b[0;34m\u001b[0m\u001b[0m\n\u001b[1;32m      2\u001b[0m \u001b[0mplt\u001b[0m\u001b[0;34m.\u001b[0m\u001b[0mplot\u001b[0m\u001b[0;34m(\u001b[0m\u001b[0mtrain_counter\u001b[0m\u001b[0;34m,\u001b[0m \u001b[0mtrain_losses\u001b[0m\u001b[0;34m,\u001b[0m \u001b[0mcolor\u001b[0m\u001b[0;34m=\u001b[0m\u001b[0;34m'blue'\u001b[0m\u001b[0;34m)\u001b[0m\u001b[0;34m\u001b[0m\u001b[0;34m\u001b[0m\u001b[0m\n\u001b[0;32m----> 3\u001b[0;31m \u001b[0mplt\u001b[0m\u001b[0;34m.\u001b[0m\u001b[0mscatter\u001b[0m\u001b[0;34m(\u001b[0m\u001b[0mtest_counter\u001b[0m\u001b[0;34m,\u001b[0m \u001b[0mtest_losses\u001b[0m\u001b[0;34m,\u001b[0m \u001b[0mcolor\u001b[0m\u001b[0;34m=\u001b[0m\u001b[0;34m'red'\u001b[0m\u001b[0;34m)\u001b[0m\u001b[0;34m\u001b[0m\u001b[0;34m\u001b[0m\u001b[0m\n\u001b[0m\u001b[1;32m      4\u001b[0m \u001b[0mplt\u001b[0m\u001b[0;34m.\u001b[0m\u001b[0mlegend\u001b[0m\u001b[0;34m(\u001b[0m\u001b[0;34m[\u001b[0m\u001b[0;34m'Train Loss'\u001b[0m\u001b[0;34m,\u001b[0m \u001b[0;34m'Test Loss'\u001b[0m\u001b[0;34m]\u001b[0m\u001b[0;34m,\u001b[0m \u001b[0mloc\u001b[0m\u001b[0;34m=\u001b[0m\u001b[0;34m'upper right'\u001b[0m\u001b[0;34m)\u001b[0m\u001b[0;34m\u001b[0m\u001b[0;34m\u001b[0m\u001b[0m\n\u001b[1;32m      5\u001b[0m \u001b[0mplt\u001b[0m\u001b[0;34m.\u001b[0m\u001b[0mxlabel\u001b[0m\u001b[0;34m(\u001b[0m\u001b[0;34m'number of training examples seen'\u001b[0m\u001b[0;34m)\u001b[0m\u001b[0;34m\u001b[0m\u001b[0;34m\u001b[0m\u001b[0m\n",
            "\u001b[0;32m/usr/local/lib/python3.7/dist-packages/matplotlib/pyplot.py\u001b[0m in \u001b[0;36mscatter\u001b[0;34m(x, y, s, c, marker, cmap, norm, vmin, vmax, alpha, linewidths, verts, edgecolors, plotnonfinite, data, **kwargs)\u001b[0m\n\u001b[1;32m   2814\u001b[0m         \u001b[0mverts\u001b[0m\u001b[0;34m=\u001b[0m\u001b[0mverts\u001b[0m\u001b[0;34m,\u001b[0m \u001b[0medgecolors\u001b[0m\u001b[0;34m=\u001b[0m\u001b[0medgecolors\u001b[0m\u001b[0;34m,\u001b[0m\u001b[0;34m\u001b[0m\u001b[0;34m\u001b[0m\u001b[0m\n\u001b[1;32m   2815\u001b[0m         plotnonfinite=plotnonfinite, **({\"data\": data} if data is not\n\u001b[0;32m-> 2816\u001b[0;31m         None else {}), **kwargs)\n\u001b[0m\u001b[1;32m   2817\u001b[0m     \u001b[0msci\u001b[0m\u001b[0;34m(\u001b[0m\u001b[0m__ret\u001b[0m\u001b[0;34m)\u001b[0m\u001b[0;34m\u001b[0m\u001b[0;34m\u001b[0m\u001b[0m\n\u001b[1;32m   2818\u001b[0m     \u001b[0;32mreturn\u001b[0m \u001b[0m__ret\u001b[0m\u001b[0;34m\u001b[0m\u001b[0;34m\u001b[0m\u001b[0m\n",
            "\u001b[0;32m/usr/local/lib/python3.7/dist-packages/matplotlib/__init__.py\u001b[0m in \u001b[0;36minner\u001b[0;34m(ax, data, *args, **kwargs)\u001b[0m\n\u001b[1;32m   1563\u001b[0m     \u001b[0;32mdef\u001b[0m \u001b[0minner\u001b[0m\u001b[0;34m(\u001b[0m\u001b[0max\u001b[0m\u001b[0;34m,\u001b[0m \u001b[0;34m*\u001b[0m\u001b[0margs\u001b[0m\u001b[0;34m,\u001b[0m \u001b[0mdata\u001b[0m\u001b[0;34m=\u001b[0m\u001b[0;32mNone\u001b[0m\u001b[0;34m,\u001b[0m \u001b[0;34m**\u001b[0m\u001b[0mkwargs\u001b[0m\u001b[0;34m)\u001b[0m\u001b[0;34m:\u001b[0m\u001b[0;34m\u001b[0m\u001b[0;34m\u001b[0m\u001b[0m\n\u001b[1;32m   1564\u001b[0m         \u001b[0;32mif\u001b[0m \u001b[0mdata\u001b[0m \u001b[0;32mis\u001b[0m \u001b[0;32mNone\u001b[0m\u001b[0;34m:\u001b[0m\u001b[0;34m\u001b[0m\u001b[0;34m\u001b[0m\u001b[0m\n\u001b[0;32m-> 1565\u001b[0;31m             \u001b[0;32mreturn\u001b[0m \u001b[0mfunc\u001b[0m\u001b[0;34m(\u001b[0m\u001b[0max\u001b[0m\u001b[0;34m,\u001b[0m \u001b[0;34m*\u001b[0m\u001b[0mmap\u001b[0m\u001b[0;34m(\u001b[0m\u001b[0msanitize_sequence\u001b[0m\u001b[0;34m,\u001b[0m \u001b[0margs\u001b[0m\u001b[0;34m)\u001b[0m\u001b[0;34m,\u001b[0m \u001b[0;34m**\u001b[0m\u001b[0mkwargs\u001b[0m\u001b[0;34m)\u001b[0m\u001b[0;34m\u001b[0m\u001b[0;34m\u001b[0m\u001b[0m\n\u001b[0m\u001b[1;32m   1566\u001b[0m \u001b[0;34m\u001b[0m\u001b[0m\n\u001b[1;32m   1567\u001b[0m         \u001b[0mbound\u001b[0m \u001b[0;34m=\u001b[0m \u001b[0mnew_sig\u001b[0m\u001b[0;34m.\u001b[0m\u001b[0mbind\u001b[0m\u001b[0;34m(\u001b[0m\u001b[0max\u001b[0m\u001b[0;34m,\u001b[0m \u001b[0;34m*\u001b[0m\u001b[0margs\u001b[0m\u001b[0;34m,\u001b[0m \u001b[0;34m**\u001b[0m\u001b[0mkwargs\u001b[0m\u001b[0;34m)\u001b[0m\u001b[0;34m\u001b[0m\u001b[0;34m\u001b[0m\u001b[0m\n",
            "\u001b[0;32m/usr/local/lib/python3.7/dist-packages/matplotlib/cbook/deprecation.py\u001b[0m in \u001b[0;36mwrapper\u001b[0;34m(*args, **kwargs)\u001b[0m\n\u001b[1;32m    356\u001b[0m                 \u001b[0;34mf\"%(removal)s.  If any parameter follows {name!r}, they \"\u001b[0m\u001b[0;34m\u001b[0m\u001b[0;34m\u001b[0m\u001b[0m\n\u001b[1;32m    357\u001b[0m                 f\"should be pass as keyword, not positionally.\")\n\u001b[0;32m--> 358\u001b[0;31m         \u001b[0;32mreturn\u001b[0m \u001b[0mfunc\u001b[0m\u001b[0;34m(\u001b[0m\u001b[0;34m*\u001b[0m\u001b[0margs\u001b[0m\u001b[0;34m,\u001b[0m \u001b[0;34m**\u001b[0m\u001b[0mkwargs\u001b[0m\u001b[0;34m)\u001b[0m\u001b[0;34m\u001b[0m\u001b[0;34m\u001b[0m\u001b[0m\n\u001b[0m\u001b[1;32m    359\u001b[0m \u001b[0;34m\u001b[0m\u001b[0m\n\u001b[1;32m    360\u001b[0m     \u001b[0;32mreturn\u001b[0m \u001b[0mwrapper\u001b[0m\u001b[0;34m\u001b[0m\u001b[0;34m\u001b[0m\u001b[0m\n",
            "\u001b[0;32m/usr/local/lib/python3.7/dist-packages/matplotlib/axes/_axes.py\u001b[0m in \u001b[0;36mscatter\u001b[0;34m(self, x, y, s, c, marker, cmap, norm, vmin, vmax, alpha, linewidths, verts, edgecolors, plotnonfinite, **kwargs)\u001b[0m\n\u001b[1;32m   4389\u001b[0m         \u001b[0my\u001b[0m \u001b[0;34m=\u001b[0m \u001b[0mnp\u001b[0m\u001b[0;34m.\u001b[0m\u001b[0mma\u001b[0m\u001b[0;34m.\u001b[0m\u001b[0mravel\u001b[0m\u001b[0;34m(\u001b[0m\u001b[0my\u001b[0m\u001b[0;34m)\u001b[0m\u001b[0;34m\u001b[0m\u001b[0;34m\u001b[0m\u001b[0m\n\u001b[1;32m   4390\u001b[0m         \u001b[0;32mif\u001b[0m \u001b[0mx\u001b[0m\u001b[0;34m.\u001b[0m\u001b[0msize\u001b[0m \u001b[0;34m!=\u001b[0m \u001b[0my\u001b[0m\u001b[0;34m.\u001b[0m\u001b[0msize\u001b[0m\u001b[0;34m:\u001b[0m\u001b[0;34m\u001b[0m\u001b[0;34m\u001b[0m\u001b[0m\n\u001b[0;32m-> 4391\u001b[0;31m             \u001b[0;32mraise\u001b[0m \u001b[0mValueError\u001b[0m\u001b[0;34m(\u001b[0m\u001b[0;34m\"x and y must be the same size\"\u001b[0m\u001b[0;34m)\u001b[0m\u001b[0;34m\u001b[0m\u001b[0;34m\u001b[0m\u001b[0m\n\u001b[0m\u001b[1;32m   4392\u001b[0m \u001b[0;34m\u001b[0m\u001b[0m\n\u001b[1;32m   4393\u001b[0m         \u001b[0;32mif\u001b[0m \u001b[0ms\u001b[0m \u001b[0;32mis\u001b[0m \u001b[0;32mNone\u001b[0m\u001b[0;34m:\u001b[0m\u001b[0;34m\u001b[0m\u001b[0;34m\u001b[0m\u001b[0m\n",
            "\u001b[0;31mValueError\u001b[0m: x and y must be the same size"
          ]
        },
        {
          "output_type": "display_data",
          "data": {
            "text/plain": [
              "<Figure size 432x288 with 1 Axes>"
            ],
            "image/png": "[encoded data removed]"
          },
          "metadata": {
            "needs_background": "light"
          }
        }
      ]
    },
    {
      "cell_type": "markdown",
      "source": [
        "# Conclusion\n",
        "The model performance can be improved by training for longer as we dont find the overfitting isssues from the model result.\n",
        "\n",
        "We built a new environment with PyTorch and TorchVision, used it to classifiy fashion product from the MNIST dataset and hopefully developed a good intuition using PyTorch. For further information the official [PyTorch documentation](https://pytorch.org/docs/stable/index.html) is really nicely written and the [forums](https://discuss.pytorch.org/) are also quite active!"
      ],
      "metadata": {
        "id": "wR0YsZqj3LyJ"
      }
    },
    {
      "cell_type": "markdown",
      "source": [
        "# Reference\n",
        "\n",
        "[1] MNIST Handwritten Digit Recognition in PyTorch(Feb 17th, 2020): https://nextjournal.com/gkoehler/pytorch-mnist\n",
        "\n",
        "[2] PyTorch official documentation : https://pytorch.org/docs/stable/index.html\n",
        "\n",
        "[3] MNIST Fashion Datset : https://github.com/zalandoresearch/fashion-mnist\n",
        "\n",
        "[4] Intro to Computer Vision with PyTorch’s TorchVision : https://blog.jovian.ai/intro-to-computer-vision-with-pytorchs-torchvision-46c4ff43ce34"
      ],
      "metadata": {
        "id": "EOZ6qfdZ4C85"
      }
    }
  ]
}